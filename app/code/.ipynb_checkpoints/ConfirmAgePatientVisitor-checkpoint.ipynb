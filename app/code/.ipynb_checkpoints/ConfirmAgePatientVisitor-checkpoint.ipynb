{
 "cells": [
  {
   "cell_type": "code",
   "execution_count": 1,
   "metadata": {},
   "outputs": [],
   "source": [
    "import numpy as np\n",
    "import pandas as pd\n",
    "import datetime\n",
    "from PatientVisitor import PatientVisitor\n",
    "from ConfirmDatePatientVisitor import ConfirmDatePatientVisitor\n",
    "\n",
    "class ConfirmAgePatientVisitor(PatientVisitor):\n",
    "    def __init__(self):\n",
    "        self.age = np.nan\n",
    "        \n",
    "    def visitPatient(self, patient):\n",
    "        confirmDatePatientVisitor = ConfirmDatePatientVisitor()\n",
    "        confirmDatePatientVisitor.visitPatient(patient)\n",
    "        confirm_date = confirmDatePatientVisitor.getResult()\n",
    "        \n",
    "        df = pd.DataFrame(columns = ['birth','confirm_date'])\n",
    "        df.loc[0] = [patient.get_birth(),confirm_date]\n",
    "        df['different'] = df['confirm_date'] - df['birth']\n",
    "        df['different'] = df['different'].apply(lambda x: x.days)\n",
    "        df['different'] = df['different'].apply(lambda x: x/365)\n",
    "        self.age = df[['different']]\n",
    "        \n",
    "    def getResult(self):\n",
    "        return self.age\n"
   ]
  },
  {
   "cell_type": "code",
   "execution_count": null,
   "metadata": {},
   "outputs": [],
   "source": []
  }
 ],
 "metadata": {
  "kernelspec": {
   "display_name": "Python 3",
   "language": "python",
   "name": "python3"
  },
  "language_info": {
   "codemirror_mode": {
    "name": "ipython",
    "version": 3
   },
   "file_extension": ".py",
   "mimetype": "text/x-python",
   "name": "python",
   "nbconvert_exporter": "python",
   "pygments_lexer": "ipython3",
   "version": "3.7.6"
  }
 },
 "nbformat": 4,
 "nbformat_minor": 2
}
