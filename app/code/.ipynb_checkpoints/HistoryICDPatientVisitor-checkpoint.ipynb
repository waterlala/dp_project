{
 "cells": [
  {
   "cell_type": "code",
   "execution_count": 2,
   "metadata": {},
   "outputs": [],
   "source": [
    "import numpy as np\n",
    "import pandas as pd\n",
    "import datetime\n",
    "from PatientVisitor import PatientVisitor\n",
    "from ConfirmDatePatientVisitor import ConfirmDatePatientVisitor\n",
    "from ThreeYearRecordFilter import ThreeYearRecordFilter\n",
    "\n",
    "class HistoryICDPatientVisitor(PatientVisitor):\n",
    "    \n",
    "    def __init__(self):\n",
    "        self.ICD = np.nan\n",
    "        \n",
    "    def visitPatient(self, patient):\n",
    "        confirmDatePatientVisitor = ConfirmDatePatientVisitor()\n",
    "        confirmDatePatientVisitor.visitPatient(patient)\n",
    "        confirm_date = confirmDatePatientVisitor.getResult()\n",
    "        \n",
    "        df = patient.get_record()\n",
    "        threeYearRecordFilter = ThreeYearRecordFilter(confirm_date)\n",
    "        df = threeYearRecordFilter.execute(df)\n",
    "\n",
    "        col = list(set(list(eval(str(list(df['ICD9CM'])).replace('[','').replace(']','')))))\n",
    "        out = pd.DataFrame(columns = col)\n",
    "        self.ICD = out\n",
    "        \n",
    "    def getResult(self):\n",
    "        return self.ICD"
   ]
  },
  {
   "cell_type": "code",
   "execution_count": null,
   "metadata": {},
   "outputs": [],
   "source": []
  }
 ],
 "metadata": {
  "kernelspec": {
   "display_name": "Python 3",
   "language": "python",
   "name": "python3"
  },
  "language_info": {
   "codemirror_mode": {
    "name": "ipython",
    "version": 3
   },
   "file_extension": ".py",
   "mimetype": "text/x-python",
   "name": "python",
   "nbconvert_exporter": "python",
   "pygments_lexer": "ipython3",
   "version": "3.7.6"
  }
 },
 "nbformat": 4,
 "nbformat_minor": 2
}
