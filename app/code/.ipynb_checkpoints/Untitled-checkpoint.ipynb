{
 "cells": [
  {
   "cell_type": "code",
   "execution_count": 1,
   "metadata": {},
   "outputs": [],
   "source": [
    "import numpy as np\n",
    "import pandas as pd\n",
    "import datetime\n",
    "from PatientVisitor import PatientVisitor\n",
    "from ConfirmDatePatientVisitor import ConfirmDatePatientVisitor\n",
    "\n",
    "class ConfirmMonthPatientVisitor(PatientVisitor):\n",
    "    def __init__(self):\n",
    "        self.month = np.nan\n",
    "        \n",
    "    def visitPatient(self, patient):\n",
    "        confirmDatePatientVisitor = ConfirmDatePatientVisitor()\n",
    "        confirmDatePatientVisitor.visitPatient(patient)\n",
    "        confirm_date = confirmDatePatientVisitor.getResult()\n",
    "        month_list = []\n",
    "        data_list = [] \n",
    "        for i in range(1,13,1):\n",
    "            month_list.append('month_'+str(i))\n",
    "            if i==confirm_date.month:\n",
    "                data_list.append(1)\n",
    "            else:\n",
    "                data_list.append(0)\n",
    "        out = pd.DataFrame(columns = month_list)\n",
    "        out.loc[1]=data_list\n",
    "        self.month = out\n",
    "        \n",
    "    def getResult(self):\n",
    "        return self.month\n",
    "\n"
   ]
  },
  {
   "cell_type": "code",
   "execution_count": null,
   "metadata": {},
   "outputs": [],
   "source": []
  }
 ],
 "metadata": {
  "kernelspec": {
   "display_name": "Python 3",
   "language": "python",
   "name": "python3"
  },
  "language_info": {
   "codemirror_mode": {
    "name": "ipython",
    "version": 3
   },
   "file_extension": ".py",
   "mimetype": "text/x-python",
   "name": "python",
   "nbconvert_exporter": "python",
   "pygments_lexer": "ipython3",
   "version": "3.7.6"
  }
 },
 "nbformat": 4,
 "nbformat_minor": 2
}
