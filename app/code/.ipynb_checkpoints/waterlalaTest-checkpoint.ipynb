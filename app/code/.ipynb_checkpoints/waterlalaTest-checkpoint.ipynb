{
 "cells": [
  {
   "cell_type": "code",
   "execution_count": 9,
   "metadata": {},
   "outputs": [],
   "source": [
    "from InOutput import InOutput"
   ]
  },
  {
   "cell_type": "code",
   "execution_count": 10,
   "metadata": {},
   "outputs": [],
   "source": [
    "test = InOutput()"
   ]
  },
  {
   "cell_type": "code",
   "execution_count": 11,
   "metadata": {},
   "outputs": [],
   "source": [
    "patient = test._data_storage._patient_list[3]"
   ]
  },
  {
   "cell_type": "code",
   "execution_count": 12,
   "metadata": {},
   "outputs": [
    {
     "data": {
      "text/plain": [
       "'003141716a352935ab39e2ec8f2401f0'"
      ]
     },
     "execution_count": 12,
     "metadata": {},
     "output_type": "execute_result"
    }
   ],
   "source": [
    "patient.get_id()"
   ]
  },
  {
   "cell_type": "code",
   "execution_count": 15,
   "metadata": {},
   "outputs": [],
   "source": [
    "from CalHistoryICDVisitor import CalHistoryICDVisitor"
   ]
  },
  {
   "cell_type": "code",
   "execution_count": 67,
   "metadata": {},
   "outputs": [
    {
     "data": {
      "text/plain": [
       "0007613eee440aa3145f09e1dfd0865b                                           {410, 413}\n",
       "002b2cd6ed1d3adaf529a8b051801051    {386, 518, 521, 522, 523, 780, 9, 782, 784, 40...\n",
       "0030e804d2d6bf93d1c14c1ef9bda1a1    {523, 780, 525, 526, 401, 536, 410, 414, 428, ...\n",
       "003141716a352935ab39e2ec8f2401f0    {521, 523, 525, 141, 782, 528, 401, 530, 532, ...\n",
       "003383acfc919be39bd46184d21009e2    {388, 394, 396, 780, 781, 782, 401, 785, 787, ...\n",
       "                                                          ...                        \n",
       "0624b0c437ebdf4004eb857421932580    {842, 715, 462, 463, 272, 465, 466, 368, 372, ...\n",
       "0641f297e531824f1f2cf105d7dc7326    {386, 389, 272, 401, 530, 403, 787, 533, 786, ...\n",
       "066d245efa2c608d3a462e7804df88df        {386, 424, 523, 846, 465, 466, 692, 410, 414}\n",
       "067a0d8047686356d382106294098c88    {388, 521, 394, 523, 780, 395, 396, 782, 784, ...\n",
       "06ab9e7c867adfb71cfa69adaaaf1108    {386, 780, 782, 784, 786, 789, 410, 411, 413, ...\n",
       "Length: 100, dtype: object"
      ]
     },
     "execution_count": 67,
     "metadata": {},
     "output_type": "execute_result"
    }
   ],
   "source": [
    "df = pd.DataFrame(columns = ['ID','disease'])\n",
    "for patient in test._data_storage.iter_patient_list():\n",
    "    calHistoryICDVisitor = CalHistoryICDVisitor()\n",
    "    patient.accept_visitor(calHistoryICDVisitor)\n",
    "    df.loc[len(df)] = [patient.get_id(),set(calHistoryICDVisitor.get_result().columns)]\n",
    "setf.__result = pd.Series(list(df['disease']),index = list(df['ID']))"
   ]
  },
  {
   "cell_type": "code",
   "execution_count": null,
   "metadata": {},
   "outputs": [],
   "source": []
  }
 ],
 "metadata": {
  "kernelspec": {
   "display_name": "Python 3",
   "language": "python",
   "name": "python3"
  },
  "language_info": {
   "codemirror_mode": {
    "name": "ipython",
    "version": 3
   },
   "file_extension": ".py",
   "mimetype": "text/x-python",
   "name": "python",
   "nbconvert_exporter": "python",
   "pygments_lexer": "ipython3",
   "version": "3.7.6"
  }
 },
 "nbformat": 4,
 "nbformat_minor": 2
}
