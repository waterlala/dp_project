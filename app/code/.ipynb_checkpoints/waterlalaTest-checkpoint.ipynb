{
 "cells": [
  {
   "cell_type": "code",
   "execution_count": 1,
   "metadata": {},
   "outputs": [],
   "source": [
    "from InOutput import InOutput"
   ]
  },
  {
   "cell_type": "code",
   "execution_count": 2,
   "metadata": {},
   "outputs": [],
   "source": [
    "test = InOutput()"
   ]
  },
  {
   "cell_type": "code",
   "execution_count": 3,
   "metadata": {},
   "outputs": [],
   "source": [
    "id = '0007613eee440aa3145f09e1dfd0865b'"
   ]
  },
  {
   "cell_type": "code",
   "execution_count": 4,
   "metadata": {},
   "outputs": [
    {
     "data": {
      "text/plain": [
       "0.123416506"
      ]
     },
     "execution_count": 4,
     "metadata": {},
     "output_type": "execute_result"
    }
   ],
   "source": [
    "test.get_quickly_death_possible(id)"
   ]
  },
  {
   "cell_type": "code",
   "execution_count": 5,
   "metadata": {},
   "outputs": [
    {
     "data": {
      "text/html": [
       "<div>\n",
       "<style scoped>\n",
       "    .dataframe tbody tr th:only-of-type {\n",
       "        vertical-align: middle;\n",
       "    }\n",
       "\n",
       "    .dataframe tbody tr th {\n",
       "        vertical-align: top;\n",
       "    }\n",
       "\n",
       "    .dataframe thead th {\n",
       "        text-align: right;\n",
       "    }\n",
       "</style>\n",
       "<table border=\"1\" class=\"dataframe\">\n",
       "  <thead>\n",
       "    <tr style=\"text-align: right;\">\n",
       "      <th></th>\n",
       "      <th>0</th>\n",
       "      <th>1</th>\n",
       "      <th>2</th>\n",
       "      <th>3</th>\n",
       "      <th>4</th>\n",
       "      <th>5</th>\n",
       "      <th>6</th>\n",
       "      <th>7</th>\n",
       "      <th>8</th>\n",
       "      <th>9</th>\n",
       "      <th>...</th>\n",
       "      <th>35</th>\n",
       "      <th>36</th>\n",
       "      <th>37</th>\n",
       "      <th>38</th>\n",
       "      <th>39</th>\n",
       "      <th>40</th>\n",
       "      <th>41</th>\n",
       "      <th>42</th>\n",
       "      <th>43</th>\n",
       "      <th>44</th>\n",
       "    </tr>\n",
       "  </thead>\n",
       "  <tbody>\n",
       "    <tr>\n",
       "      <th>x</th>\n",
       "      <td>1.0</td>\n",
       "      <td>366.0</td>\n",
       "      <td>731.0</td>\n",
       "      <td>1096.0</td>\n",
       "      <td>1461.0</td>\n",
       "      <td>1826.0</td>\n",
       "      <td>2191.0</td>\n",
       "      <td>2556.0</td>\n",
       "      <td>2921.0</td>\n",
       "      <td>3286.0</td>\n",
       "      <td>...</td>\n",
       "      <td>12776.0</td>\n",
       "      <td>13141.0</td>\n",
       "      <td>13506.0</td>\n",
       "      <td>13871.0</td>\n",
       "      <td>14236.0</td>\n",
       "      <td>14601.0</td>\n",
       "      <td>14966.0</td>\n",
       "      <td>15331.0</td>\n",
       "      <td>15696.0</td>\n",
       "      <td>16061.0</td>\n",
       "    </tr>\n",
       "    <tr>\n",
       "      <th>y</th>\n",
       "      <td>0.0</td>\n",
       "      <td>0.0</td>\n",
       "      <td>0.0</td>\n",
       "      <td>0.0</td>\n",
       "      <td>0.0</td>\n",
       "      <td>0.0</td>\n",
       "      <td>0.0</td>\n",
       "      <td>0.0</td>\n",
       "      <td>0.0</td>\n",
       "      <td>0.0</td>\n",
       "      <td>...</td>\n",
       "      <td>30.0</td>\n",
       "      <td>30.0</td>\n",
       "      <td>32.0</td>\n",
       "      <td>32.0</td>\n",
       "      <td>33.0</td>\n",
       "      <td>33.0</td>\n",
       "      <td>35.0</td>\n",
       "      <td>38.0</td>\n",
       "      <td>51.0</td>\n",
       "      <td>55.0</td>\n",
       "    </tr>\n",
       "  </tbody>\n",
       "</table>\n",
       "<p>2 rows × 45 columns</p>\n",
       "</div>"
      ],
      "text/plain": [
       "    0      1      2       3       4       5       6       7       8       9   \\\n",
       "x  1.0  366.0  731.0  1096.0  1461.0  1826.0  2191.0  2556.0  2921.0  3286.0   \n",
       "y  0.0    0.0    0.0     0.0     0.0     0.0     0.0     0.0     0.0     0.0   \n",
       "\n",
       "   ...       35       36       37       38       39       40       41  \\\n",
       "x  ...  12776.0  13141.0  13506.0  13871.0  14236.0  14601.0  14966.0   \n",
       "y  ...     30.0     30.0     32.0     32.0     33.0     33.0     35.0   \n",
       "\n",
       "        42       43       44  \n",
       "x  15331.0  15696.0  16061.0  \n",
       "y     38.0     51.0     55.0  \n",
       "\n",
       "[2 rows x 45 columns]"
      ]
     },
     "execution_count": 5,
     "metadata": {},
     "output_type": "execute_result"
    }
   ],
   "source": [
    "test.get_icd_category_growth_trend(id)"
   ]
  },
  {
   "cell_type": "code",
   "execution_count": 6,
   "metadata": {},
   "outputs": [
    {
     "data": {
      "text/html": [
       "<div>\n",
       "<style scoped>\n",
       "    .dataframe tbody tr th:only-of-type {\n",
       "        vertical-align: middle;\n",
       "    }\n",
       "\n",
       "    .dataframe tbody tr th {\n",
       "        vertical-align: top;\n",
       "    }\n",
       "\n",
       "    .dataframe thead th {\n",
       "        text-align: right;\n",
       "    }\n",
       "</style>\n",
       "<table border=\"1\" class=\"dataframe\">\n",
       "  <thead>\n",
       "    <tr style=\"text-align: right;\">\n",
       "      <th></th>\n",
       "      <th>id</th>\n",
       "      <th>gender</th>\n",
       "      <th>birthdate</th>\n",
       "    </tr>\n",
       "  </thead>\n",
       "  <tbody>\n",
       "    <tr>\n",
       "      <th>0</th>\n",
       "      <td>0007613eee440aa3145f09e1dfd0865b</td>\n",
       "      <td>M</td>\n",
       "      <td>1968-07-01</td>\n",
       "    </tr>\n",
       "  </tbody>\n",
       "</table>\n",
       "</div>"
      ],
      "text/plain": [
       "                                 id gender  birthdate\n",
       "0  0007613eee440aa3145f09e1dfd0865b      M 1968-07-01"
      ]
     },
     "execution_count": 6,
     "metadata": {},
     "output_type": "execute_result"
    }
   ],
   "source": [
    "test.get_personal_info(id)"
   ]
  },
  {
   "cell_type": "code",
   "execution_count": 4,
   "metadata": {},
   "outputs": [],
   "source": [
    "test = InOutput()"
   ]
  },
  {
   "cell_type": "code",
   "execution_count": 5,
   "metadata": {},
   "outputs": [],
   "source": [
    "patient = test._data_storage._patient_list[0]"
   ]
  },
  {
   "cell_type": "code",
   "execution_count": 6,
   "metadata": {},
   "outputs": [
    {
     "data": {
      "text/plain": [
       "'0007613eee440aa3145f09e1dfd0865b'"
      ]
     },
     "execution_count": 6,
     "metadata": {},
     "output_type": "execute_result"
    }
   ],
   "source": [
    "patient.get_id()"
   ]
  },
  {
   "cell_type": "code",
   "execution_count": 7,
   "metadata": {},
   "outputs": [
    {
     "data": {
      "text/plain": [
       "Timestamp('1998-09-07 00:00:00')"
      ]
     },
     "execution_count": 7,
     "metadata": {},
     "output_type": "execute_result"
    }
   ],
   "source": [
    "from ConfirmDatePatientVisitor import ConfirmDatePatientVisitor\n",
    "confirmDatePatientVisitor = ConfirmDatePatientVisitor()\n",
    "patient.accept_visitor(confirmDatePatientVisitor)\n",
    "confirm_date = confirmDatePatientVisitor.getResult()\n",
    "confirm_date"
   ]
  },
  {
   "cell_type": "code",
   "execution_count": 8,
   "metadata": {},
   "outputs": [
    {
     "data": {
      "text/plain": [
       "'TaichungCity'"
      ]
     },
     "execution_count": 8,
     "metadata": {},
     "output_type": "execute_result"
    }
   ],
   "source": [
    "from AreaPatientVisitor import AreaPatientVisitor\n",
    "areaPatientVisitor = AreaPatientVisitor()\n",
    "patient.accept_visitor(areaPatientVisitor)\n",
    "area = areaPatientVisitor.getResult()\n",
    "area"
   ]
  },
  {
   "cell_type": "code",
   "execution_count": 9,
   "metadata": {},
   "outputs": [
    {
     "data": {
      "text/html": [
       "<div>\n",
       "<style scoped>\n",
       "    .dataframe tbody tr th:only-of-type {\n",
       "        vertical-align: middle;\n",
       "    }\n",
       "\n",
       "    .dataframe tbody tr th {\n",
       "        vertical-align: top;\n",
       "    }\n",
       "\n",
       "    .dataframe thead th {\n",
       "        text-align: right;\n",
       "    }\n",
       "</style>\n",
       "<table border=\"1\" class=\"dataframe\">\n",
       "  <thead>\n",
       "    <tr style=\"text-align: right;\">\n",
       "      <th></th>\n",
       "      <th>0</th>\n",
       "      <th>1</th>\n",
       "      <th>2</th>\n",
       "      <th>3</th>\n",
       "      <th>4</th>\n",
       "      <th>5</th>\n",
       "      <th>6</th>\n",
       "      <th>7</th>\n",
       "      <th>8</th>\n",
       "      <th>9</th>\n",
       "      <th>...</th>\n",
       "      <th>35</th>\n",
       "      <th>36</th>\n",
       "      <th>37</th>\n",
       "      <th>38</th>\n",
       "      <th>39</th>\n",
       "      <th>40</th>\n",
       "      <th>41</th>\n",
       "      <th>42</th>\n",
       "      <th>43</th>\n",
       "      <th>44</th>\n",
       "    </tr>\n",
       "  </thead>\n",
       "  <tbody>\n",
       "    <tr>\n",
       "      <th>x</th>\n",
       "      <td>1.0</td>\n",
       "      <td>366.0</td>\n",
       "      <td>731.0</td>\n",
       "      <td>1096.0</td>\n",
       "      <td>1461.0</td>\n",
       "      <td>1826.0</td>\n",
       "      <td>2191.0</td>\n",
       "      <td>2556.0</td>\n",
       "      <td>2921.0</td>\n",
       "      <td>3286.0</td>\n",
       "      <td>...</td>\n",
       "      <td>12776.0</td>\n",
       "      <td>13141.0</td>\n",
       "      <td>13506.0</td>\n",
       "      <td>13871.0</td>\n",
       "      <td>14236.0</td>\n",
       "      <td>14601.0</td>\n",
       "      <td>14966.0</td>\n",
       "      <td>15331.0</td>\n",
       "      <td>15696.0</td>\n",
       "      <td>16061.0</td>\n",
       "    </tr>\n",
       "    <tr>\n",
       "      <th>y</th>\n",
       "      <td>0.0</td>\n",
       "      <td>0.0</td>\n",
       "      <td>0.0</td>\n",
       "      <td>0.0</td>\n",
       "      <td>0.0</td>\n",
       "      <td>0.0</td>\n",
       "      <td>0.0</td>\n",
       "      <td>0.0</td>\n",
       "      <td>0.0</td>\n",
       "      <td>0.0</td>\n",
       "      <td>...</td>\n",
       "      <td>30.0</td>\n",
       "      <td>30.0</td>\n",
       "      <td>32.0</td>\n",
       "      <td>32.0</td>\n",
       "      <td>33.0</td>\n",
       "      <td>33.0</td>\n",
       "      <td>35.0</td>\n",
       "      <td>38.0</td>\n",
       "      <td>51.0</td>\n",
       "      <td>55.0</td>\n",
       "    </tr>\n",
       "  </tbody>\n",
       "</table>\n",
       "<p>2 rows × 45 columns</p>\n",
       "</div>"
      ],
      "text/plain": [
       "    0      1      2       3       4       5       6       7       8       9   \\\n",
       "x  1.0  366.0  731.0  1096.0  1461.0  1826.0  2191.0  2556.0  2921.0  3286.0   \n",
       "y  0.0    0.0    0.0     0.0     0.0     0.0     0.0     0.0     0.0     0.0   \n",
       "\n",
       "   ...       35       36       37       38       39       40       41  \\\n",
       "x  ...  12776.0  13141.0  13506.0  13871.0  14236.0  14601.0  14966.0   \n",
       "y  ...     30.0     30.0     32.0     32.0     33.0     33.0     35.0   \n",
       "\n",
       "        42       43       44  \n",
       "x  15331.0  15696.0  16061.0  \n",
       "y     38.0     51.0     55.0  \n",
       "\n",
       "[2 rows x 45 columns]"
      ]
     },
     "execution_count": 9,
     "metadata": {},
     "output_type": "execute_result"
    }
   ],
   "source": [
    "from CardPatientVisitor import CardPatientVisitor\n",
    "cardPatientVisitor = CardPatientVisitor()\n",
    "patient.accept_visitor(cardPatientVisitor)\n",
    "position = cardPatientVisitor.getResult()\n",
    "position"
   ]
  },
  {
   "cell_type": "code",
   "execution_count": 10,
   "metadata": {},
   "outputs": [
    {
     "data": {
      "text/plain": [
       "9"
      ]
     },
     "execution_count": 10,
     "metadata": {},
     "output_type": "execute_result"
    }
   ],
   "source": [
    "from ConfirmMonthPatientVisitor import ConfirmMonthPatientVisitor\n",
    "confirmMonthPatientVisitor = ConfirmMonthPatientVisitor()\n",
    "patient.accept_visitor(confirmMonthPatientVisitor)\n",
    "month = confirmMonthPatientVisitor.getResult()\n",
    "month"
   ]
  },
  {
   "cell_type": "code",
   "execution_count": 11,
   "metadata": {},
   "outputs": [
    {
     "data": {
      "text/plain": [
       "1"
      ]
     },
     "execution_count": 11,
     "metadata": {},
     "output_type": "execute_result"
    }
   ],
   "source": [
    "from ConfirmTypePatientVisitor import ConfirmTypePatientVisitor\n",
    "confirmTypePatientVisitor = ConfirmTypePatientVisitor()\n",
    "patient.accept_visitor(confirmTypePatientVisitor)\n",
    "type = confirmTypePatientVisitor.getResult()\n",
    "type"
   ]
  },
  {
   "cell_type": "code",
   "execution_count": 12,
   "metadata": {},
   "outputs": [
    {
     "data": {
      "text/plain": [
       "30.205479452054796"
      ]
     },
     "execution_count": 12,
     "metadata": {},
     "output_type": "execute_result"
    }
   ],
   "source": [
    "from ConfirmAgePatientVisitor import ConfirmAgePatientVisitor\n",
    "confirmAgePatientVisitor = ConfirmAgePatientVisitor()\n",
    "patient.accept_visitor(confirmAgePatientVisitor)\n",
    "age = confirmAgePatientVisitor.getResult()\n",
    "age"
   ]
  },
  {
   "cell_type": "code",
   "execution_count": 13,
   "metadata": {},
   "outputs": [
    {
     "data": {
      "text/plain": [
       "230151"
      ]
     },
     "execution_count": 13,
     "metadata": {},
     "output_type": "execute_result"
    }
   ],
   "source": [
    "from HistoryTotalDotPatientVisitor import HistoryTotalDotPatientVisitor\n",
    "historyTotalDotPatientVisitor = HistoryTotalDotPatientVisitor()\n",
    "patient.accept_visitor(historyTotalDotPatientVisitor)\n",
    "dot = historyTotalDotPatientVisitor.getResult()\n",
    "dot"
   ]
  },
  {
   "cell_type": "code",
   "execution_count": 14,
   "metadata": {},
   "outputs": [
    {
     "data": {
      "text/html": [
       "<div>\n",
       "<style scoped>\n",
       "    .dataframe tbody tr th:only-of-type {\n",
       "        vertical-align: middle;\n",
       "    }\n",
       "\n",
       "    .dataframe tbody tr th {\n",
       "        vertical-align: top;\n",
       "    }\n",
       "\n",
       "    .dataframe thead th {\n",
       "        text-align: right;\n",
       "    }\n",
       "</style>\n",
       "<table border=\"1\" class=\"dataframe\">\n",
       "  <thead>\n",
       "    <tr style=\"text-align: right;\">\n",
       "      <th></th>\n",
       "      <th>ou_times</th>\n",
       "      <th>em_times</th>\n",
       "      <th>in_times</th>\n",
       "    </tr>\n",
       "  </thead>\n",
       "  <tbody>\n",
       "    <tr>\n",
       "      <th>0</th>\n",
       "      <td>0</td>\n",
       "      <td>1</td>\n",
       "      <td>0</td>\n",
       "    </tr>\n",
       "  </tbody>\n",
       "</table>\n",
       "</div>"
      ],
      "text/plain": [
       "  ou_times em_times in_times\n",
       "0        0        1        0"
      ]
     },
     "execution_count": 14,
     "metadata": {},
     "output_type": "execute_result"
    }
   ],
   "source": [
    "from HistoryTypePatientVisitor import HistoryTypePatientVisitor\n",
    "historyTypePatientVisitor = HistoryTypePatientVisitor()\n",
    "patient.accept_visitor(historyTypePatientVisitor)\n",
    "history_type = historyTypePatientVisitor.getResult()\n",
    "history_type"
   ]
  },
  {
   "cell_type": "code",
   "execution_count": 15,
   "metadata": {},
   "outputs": [
    {
     "data": {
      "text/html": [
       "<div>\n",
       "<style scoped>\n",
       "    .dataframe tbody tr th:only-of-type {\n",
       "        vertical-align: middle;\n",
       "    }\n",
       "\n",
       "    .dataframe tbody tr th {\n",
       "        vertical-align: top;\n",
       "    }\n",
       "\n",
       "    .dataframe thead th {\n",
       "        text-align: right;\n",
       "    }\n",
       "</style>\n",
       "<table border=\"1\" class=\"dataframe\">\n",
       "  <thead>\n",
       "    <tr style=\"text-align: right;\">\n",
       "      <th></th>\n",
       "      <th>410</th>\n",
       "      <th>413</th>\n",
       "    </tr>\n",
       "  </thead>\n",
       "  <tbody>\n",
       "  </tbody>\n",
       "</table>\n",
       "</div>"
      ],
      "text/plain": [
       "Empty DataFrame\n",
       "Columns: [410, 413]\n",
       "Index: []"
      ]
     },
     "execution_count": 15,
     "metadata": {},
     "output_type": "execute_result"
    }
   ],
   "source": [
    "from HistoryICDPatientVisitor import HistoryICDPatientVisitor\n",
    "historyICDPatientVisitor = HistoryICDPatientVisitor()\n",
    "patient.accept_visitor(historyICDPatientVisitor)\n",
    "history_icd = historyICDPatientVisitor.getResult()\n",
    "history_icd"
   ]
  },
  {
   "cell_type": "code",
   "execution_count": 16,
   "metadata": {},
   "outputs": [
    {
     "data": {
      "text/html": [
       "<div>\n",
       "<style scoped>\n",
       "    .dataframe tbody tr th:only-of-type {\n",
       "        vertical-align: middle;\n",
       "    }\n",
       "\n",
       "    .dataframe tbody tr th {\n",
       "        vertical-align: top;\n",
       "    }\n",
       "\n",
       "    .dataframe thead th {\n",
       "        text-align: right;\n",
       "    }\n",
       "</style>\n",
       "<table border=\"1\" class=\"dataframe\">\n",
       "  <thead>\n",
       "    <tr style=\"text-align: right;\">\n",
       "      <th></th>\n",
       "      <th>B017151229</th>\n",
       "      <th>A001085209</th>\n",
       "      <th>A034286100</th>\n",
       "      <th>N002816209</th>\n",
       "      <th>A005891209</th>\n",
       "      <th>A013382100</th>\n",
       "      <th>A029836277</th>\n",
       "      <th>B018198299</th>\n",
       "      <th>B016526248</th>\n",
       "      <th>B010095100</th>\n",
       "      <th>...</th>\n",
       "      <th>A009250500</th>\n",
       "      <th>A037344100</th>\n",
       "      <th>A012824277</th>\n",
       "      <th>A032611100</th>\n",
       "      <th>B018961100</th>\n",
       "      <th>A020785216</th>\n",
       "      <th>B018847100</th>\n",
       "      <th>A032350221</th>\n",
       "      <th>B013848212</th>\n",
       "      <th>A010871277</th>\n",
       "    </tr>\n",
       "  </thead>\n",
       "  <tbody>\n",
       "  </tbody>\n",
       "</table>\n",
       "<p>0 rows × 31 columns</p>\n",
       "</div>"
      ],
      "text/plain": [
       "Empty DataFrame\n",
       "Columns: [B017151229, A001085209, A034286100, N002816209, A005891209, A013382100, A029836277, B018198299, B016526248, B010095100, B018543221, A021743100, B020802100, A030396100, A024212277, B005896100, A029828100, B020932221, B008780100, B019425100, A003355212, A009250500, A037344100, A012824277, A032611100, B018961100, A020785216, B018847100, A032350221, B013848212, A010871277]\n",
       "Index: []\n",
       "\n",
       "[0 rows x 31 columns]"
      ]
     },
     "execution_count": 16,
     "metadata": {},
     "output_type": "execute_result"
    }
   ],
   "source": [
    "from HistoryMEPatientVisitor import HistoryMEPatientVisitor\n",
    "historyMEPatientVisitor = HistoryMEPatientVisitor()\n",
    "patient.accept_visitor(historyMEPatientVisitor)\n",
    "history_me = historyMEPatientVisitor.getResult()\n",
    "history_me"
   ]
  },
  {
   "cell_type": "code",
   "execution_count": 17,
   "metadata": {},
   "outputs": [
    {
     "data": {
      "text/plain": [
       "0.123416506"
      ]
     },
     "execution_count": 17,
     "metadata": {},
     "output_type": "execute_result"
    }
   ],
   "source": [
    "from QuicklyDeathPatientVisitor import QuicklyDeathPatientVisitor\n",
    "quicklyDeathPatientVisitor = QuicklyDeathPatientVisitor()\n",
    "patient.accept_visitor(quicklyDeathPatientVisitor)\n",
    "death_posible = quicklyDeathPatientVisitor.getResult()\n",
    "death_posible"
   ]
  },
  {
   "cell_type": "code",
   "execution_count": null,
   "metadata": {},
   "outputs": [],
   "source": []
  },
  {
   "cell_type": "code",
   "execution_count": null,
   "metadata": {},
   "outputs": [],
   "source": []
  },
  {
   "cell_type": "code",
   "execution_count": null,
   "metadata": {},
   "outputs": [],
   "source": []
  },
  {
   "cell_type": "code",
   "execution_count": null,
   "metadata": {},
   "outputs": [],
   "source": []
  },
  {
   "cell_type": "code",
   "execution_count": null,
   "metadata": {},
   "outputs": [],
   "source": []
  },
  {
   "cell_type": "code",
   "execution_count": null,
   "metadata": {},
   "outputs": [],
   "source": []
  }
 ],
 "metadata": {
  "kernelspec": {
   "display_name": "Python 3",
   "language": "python",
   "name": "python3"
  },
  "language_info": {
   "codemirror_mode": {
    "name": "ipython",
    "version": 3
   },
   "file_extension": ".py",
   "mimetype": "text/x-python",
   "name": "python",
   "nbconvert_exporter": "python",
   "pygments_lexer": "ipython3",
   "version": "3.7.6"
  }
 },
 "nbformat": 4,
 "nbformat_minor": 2
}
