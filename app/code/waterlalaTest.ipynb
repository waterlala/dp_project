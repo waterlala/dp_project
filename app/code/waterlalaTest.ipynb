{
 "cells": [
  {
   "cell_type": "code",
   "execution_count": 1,
   "metadata": {},
   "outputs": [],
   "source": [
    "from InOutput import InOutput"
   ]
  },
  {
   "cell_type": "code",
   "execution_count": 2,
   "metadata": {},
   "outputs": [],
   "source": [
    "test = InOutput()"
   ]
  },
  {
   "cell_type": "code",
   "execution_count": 3,
   "metadata": {},
   "outputs": [],
   "source": [
    "patient = test._data_storage._patient_list[3]"
   ]
  },
  {
   "cell_type": "code",
   "execution_count": 4,
   "metadata": {},
   "outputs": [
    {
     "data": {
      "text/plain": [
       "'003141716a352935ab39e2ec8f2401f0'"
      ]
     },
     "execution_count": 4,
     "metadata": {},
     "output_type": "execute_result"
    }
   ],
   "source": [
    "patient.get_id()"
   ]
  },
  {
   "cell_type": "code",
   "execution_count": 5,
   "metadata": {},
   "outputs": [],
   "source": [
    "from GetSamePatientByFPTreeVisitor import GetSamePatientByFPTreeVisitor"
   ]
  },
  {
   "cell_type": "code",
   "execution_count": 6,
   "metadata": {},
   "outputs": [
    {
     "data": {
      "text/plain": [
       "[<Patient.Patient at 0x1d8055aaf08>,\n",
       " <Patient.Patient at 0x1d805f98888>,\n",
       " <Patient.Patient at 0x1d805f98ec8>,\n",
       " <Patient.Patient at 0x1d805fac888>,\n",
       " <Patient.Patient at 0x1d805fb0ec8>,\n",
       " <Patient.Patient at 0x1d805fb3648>,\n",
       " <Patient.Patient at 0x1d805fb5c08>,\n",
       " <Patient.Patient at 0x1d805fb5e88>,\n",
       " <Patient.Patient at 0x1d805fbabc8>,\n",
       " <Patient.Patient at 0x1d805fbc2c8>,\n",
       " <Patient.Patient at 0x1d805fc0088>,\n",
       " <Patient.Patient at 0x1d805fc0748>,\n",
       " <Patient.Patient at 0x1d805fc0e08>,\n",
       " <Patient.Patient at 0x1d805fc4bc8>,\n",
       " <Patient.Patient at 0x1d805fc8988>,\n",
       " <Patient.Patient at 0x1d805fcb088>,\n",
       " <Patient.Patient at 0x1d805fcb748>,\n",
       " <Patient.Patient at 0x1d805fcbe08>,\n",
       " <Patient.Patient at 0x1d805fce508>,\n",
       " <Patient.Patient at 0x1d805fd22c8>,\n",
       " <Patient.Patient at 0x1d805fd6748>,\n",
       " <Patient.Patient at 0x1d805fd6e08>,\n",
       " <Patient.Patient at 0x1d805fe2088>,\n",
       " <Patient.Patient at 0x1d805fe2748>,\n",
       " <Patient.Patient at 0x1d805fe4508>,\n",
       " <Patient.Patient at 0x1d805fe4bc8>,\n",
       " <Patient.Patient at 0x1d805fea2c8>,\n",
       " <Patient.Patient at 0x1d805fea988>,\n",
       " <Patient.Patient at 0x1d805fece08>,\n",
       " <Patient.Patient at 0x1d805fef508>,\n",
       " <Patient.Patient at 0x1d805fefbc8>,\n",
       " <Patient.Patient at 0x1d805ff4988>,\n",
       " <Patient.Patient at 0x1d805ff7088>,\n",
       " <Patient.Patient at 0x1d805ffb508>,\n",
       " <Patient.Patient at 0x1d805ffd988>,\n",
       " <Patient.Patient at 0x1d8060082c8>,\n",
       " <Patient.Patient at 0x1d806008988>,\n",
       " <Patient.Patient at 0x1d80600d748>,\n",
       " <Patient.Patient at 0x1d80600de08>,\n",
       " <Patient.Patient at 0x1d806010508>,\n",
       " <Patient.Patient at 0x1d806010bc8>,\n",
       " <Patient.Patient at 0x1d806013988>,\n",
       " <Patient.Patient at 0x1d80601e2c8>,\n",
       " <Patient.Patient at 0x1d80601e988>,\n",
       " <Patient.Patient at 0x1d806022748>,\n",
       " <Patient.Patient at 0x1d806022e08>,\n",
       " <Patient.Patient at 0x1d806025508>,\n",
       " <Patient.Patient at 0x1d80602a988>,\n",
       " <Patient.Patient at 0x1d806034988>,\n",
       " <Patient.Patient at 0x1d806037748>]"
      ]
     },
     "execution_count": 6,
     "metadata": {},
     "output_type": "execute_result"
    }
   ],
   "source": [
    "getSamePatientByFPTreeVisitor = GetSamePatientByFPTreeVisitor(test._data_storage)\n",
    "patient.accept_visitor(getSamePatientByFPTreeVisitor)\n",
    "getSamePatientByFPTreeVisitor.get_result()"
   ]
  },
  {
   "cell_type": "code",
   "execution_count": null,
   "metadata": {},
   "outputs": [],
   "source": []
  }
 ],
 "metadata": {
  "kernelspec": {
   "display_name": "Python 3",
   "language": "python",
   "name": "python3"
  },
  "language_info": {
   "codemirror_mode": {
    "name": "ipython",
    "version": 3
   },
   "file_extension": ".py",
   "mimetype": "text/x-python",
   "name": "python",
   "nbconvert_exporter": "python",
   "pygments_lexer": "ipython3",
   "version": "3.7.6"
  }
 },
 "nbformat": 4,
 "nbformat_minor": 2
}
