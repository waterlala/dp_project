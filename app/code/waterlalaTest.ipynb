{
 "cells": [
  {
   "cell_type": "code",
   "execution_count": 1,
   "metadata": {},
   "outputs": [],
   "source": [
    "from InOutput import InOutput"
   ]
  },
  {
   "cell_type": "code",
   "execution_count": 2,
   "metadata": {},
   "outputs": [],
   "source": [
    "test = InOutput()"
   ]
  },
  {
   "cell_type": "code",
   "execution_count": 15,
   "metadata": {},
   "outputs": [],
   "source": [
    "patient = test._data_storage._patient_list[15]"
   ]
  },
  {
   "cell_type": "code",
   "execution_count": 16,
   "metadata": {},
   "outputs": [
    {
     "data": {
      "text/plain": [
       "'00ecf588b61e4afdc2c2913de253c900'"
      ]
     },
     "execution_count": 16,
     "metadata": {},
     "output_type": "execute_result"
    }
   ],
   "source": [
    "patient.get_id()"
   ]
  },
  {
   "cell_type": "code",
   "execution_count": 17,
   "metadata": {},
   "outputs": [
    {
     "data": {
      "text/plain": [
       "Timestamp('2013-05-13 00:00:00')"
      ]
     },
     "execution_count": 17,
     "metadata": {},
     "output_type": "execute_result"
    }
   ],
   "source": [
    "from ConfirmDatePatientVisitor import ConfirmDatePatientVisitor\n",
    "confirmDatePatientVisitor = ConfirmDatePatientVisitor()\n",
    "confirmDatePatientVisitor.visitPatient(patient)\n",
    "confirm_date = confirmDatePatientVisitor.getResult()\n",
    "confirm_date"
   ]
  },
  {
   "cell_type": "code",
   "execution_count": 18,
   "metadata": {},
   "outputs": [
    {
     "data": {
      "text/plain": [
       "'TainanCity'"
      ]
     },
     "execution_count": 18,
     "metadata": {},
     "output_type": "execute_result"
    }
   ],
   "source": [
    "from AreaPatientVisitor import AreaPatientVisitor\n",
    "areaPatientVisitor = AreaPatientVisitor()\n",
    "areaPatientVisitor.visitPatient(patient)\n",
    "area = areaPatientVisitor.getResult()\n",
    "area"
   ]
  },
  {
   "cell_type": "code",
   "execution_count": 19,
   "metadata": {},
   "outputs": [
    {
     "data": {
      "text/html": [
       "<div>\n",
       "<style scoped>\n",
       "    .dataframe tbody tr th:only-of-type {\n",
       "        vertical-align: middle;\n",
       "    }\n",
       "\n",
       "    .dataframe tbody tr th {\n",
       "        vertical-align: top;\n",
       "    }\n",
       "\n",
       "    .dataframe thead th {\n",
       "        text-align: right;\n",
       "    }\n",
       "</style>\n",
       "<table border=\"1\" class=\"dataframe\">\n",
       "  <thead>\n",
       "    <tr style=\"text-align: right;\">\n",
       "      <th></th>\n",
       "      <th>0</th>\n",
       "      <th>1</th>\n",
       "      <th>2</th>\n",
       "      <th>3</th>\n",
       "      <th>4</th>\n",
       "      <th>5</th>\n",
       "      <th>6</th>\n",
       "      <th>7</th>\n",
       "      <th>8</th>\n",
       "      <th>9</th>\n",
       "      <th>...</th>\n",
       "      <th>67</th>\n",
       "      <th>68</th>\n",
       "      <th>69</th>\n",
       "      <th>70</th>\n",
       "      <th>71</th>\n",
       "      <th>72</th>\n",
       "      <th>73</th>\n",
       "      <th>74</th>\n",
       "      <th>75</th>\n",
       "      <th>76</th>\n",
       "    </tr>\n",
       "  </thead>\n",
       "  <tbody>\n",
       "    <tr>\n",
       "      <th>x</th>\n",
       "      <td>1.0</td>\n",
       "      <td>366.0</td>\n",
       "      <td>731.0</td>\n",
       "      <td>1096.0</td>\n",
       "      <td>1461.0</td>\n",
       "      <td>1826.0</td>\n",
       "      <td>2191.0</td>\n",
       "      <td>2556.0</td>\n",
       "      <td>2921.0</td>\n",
       "      <td>3286.0</td>\n",
       "      <td>...</td>\n",
       "      <td>24456.0</td>\n",
       "      <td>24821.0</td>\n",
       "      <td>25186.0</td>\n",
       "      <td>25551.0</td>\n",
       "      <td>25916.0</td>\n",
       "      <td>26281.0</td>\n",
       "      <td>26646.0</td>\n",
       "      <td>27011.0</td>\n",
       "      <td>27376.0</td>\n",
       "      <td>27741.0</td>\n",
       "    </tr>\n",
       "    <tr>\n",
       "      <th>y</th>\n",
       "      <td>0.0</td>\n",
       "      <td>0.0</td>\n",
       "      <td>0.0</td>\n",
       "      <td>0.0</td>\n",
       "      <td>0.0</td>\n",
       "      <td>0.0</td>\n",
       "      <td>0.0</td>\n",
       "      <td>0.0</td>\n",
       "      <td>0.0</td>\n",
       "      <td>0.0</td>\n",
       "      <td>...</td>\n",
       "      <td>21.0</td>\n",
       "      <td>23.0</td>\n",
       "      <td>25.0</td>\n",
       "      <td>25.0</td>\n",
       "      <td>26.0</td>\n",
       "      <td>26.0</td>\n",
       "      <td>36.0</td>\n",
       "      <td>42.0</td>\n",
       "      <td>49.0</td>\n",
       "      <td>58.0</td>\n",
       "    </tr>\n",
       "  </tbody>\n",
       "</table>\n",
       "<p>2 rows × 77 columns</p>\n",
       "</div>"
      ],
      "text/plain": [
       "    0      1      2       3       4       5       6       7       8       9   \\\n",
       "x  1.0  366.0  731.0  1096.0  1461.0  1826.0  2191.0  2556.0  2921.0  3286.0   \n",
       "y  0.0    0.0    0.0     0.0     0.0     0.0     0.0     0.0     0.0     0.0   \n",
       "\n",
       "   ...       67       68       69       70       71       72       73  \\\n",
       "x  ...  24456.0  24821.0  25186.0  25551.0  25916.0  26281.0  26646.0   \n",
       "y  ...     21.0     23.0     25.0     25.0     26.0     26.0     36.0   \n",
       "\n",
       "        74       75       76  \n",
       "x  27011.0  27376.0  27741.0  \n",
       "y     42.0     49.0     58.0  \n",
       "\n",
       "[2 rows x 77 columns]"
      ]
     },
     "execution_count": 19,
     "metadata": {},
     "output_type": "execute_result"
    }
   ],
   "source": [
    "from CardPatientVisitor import CardPatientVisitor\n",
    "cardPatientVisitor = CardPatientVisitor()\n",
    "cardPatientVisitor.visitPatient(patient)\n",
    "position = cardPatientVisitor.getResult()\n",
    "position"
   ]
  },
  {
   "cell_type": "code",
   "execution_count": 20,
   "metadata": {},
   "outputs": [
    {
     "data": {
      "text/html": [
       "<div>\n",
       "<style scoped>\n",
       "    .dataframe tbody tr th:only-of-type {\n",
       "        vertical-align: middle;\n",
       "    }\n",
       "\n",
       "    .dataframe tbody tr th {\n",
       "        vertical-align: top;\n",
       "    }\n",
       "\n",
       "    .dataframe thead th {\n",
       "        text-align: right;\n",
       "    }\n",
       "</style>\n",
       "<table border=\"1\" class=\"dataframe\">\n",
       "  <thead>\n",
       "    <tr style=\"text-align: right;\">\n",
       "      <th></th>\n",
       "      <th>month_1</th>\n",
       "      <th>month_2</th>\n",
       "      <th>month_3</th>\n",
       "      <th>month_4</th>\n",
       "      <th>month_5</th>\n",
       "      <th>month_6</th>\n",
       "      <th>month_7</th>\n",
       "      <th>month_8</th>\n",
       "      <th>month_9</th>\n",
       "      <th>month_10</th>\n",
       "      <th>month_11</th>\n",
       "      <th>month_12</th>\n",
       "    </tr>\n",
       "  </thead>\n",
       "  <tbody>\n",
       "    <tr>\n",
       "      <th>0</th>\n",
       "      <td>0</td>\n",
       "      <td>0</td>\n",
       "      <td>0</td>\n",
       "      <td>0</td>\n",
       "      <td>1</td>\n",
       "      <td>0</td>\n",
       "      <td>0</td>\n",
       "      <td>0</td>\n",
       "      <td>0</td>\n",
       "      <td>0</td>\n",
       "      <td>0</td>\n",
       "      <td>0</td>\n",
       "    </tr>\n",
       "  </tbody>\n",
       "</table>\n",
       "</div>"
      ],
      "text/plain": [
       "  month_1 month_2 month_3 month_4 month_5 month_6 month_7 month_8 month_9  \\\n",
       "0       0       0       0       0       1       0       0       0       0   \n",
       "\n",
       "  month_10 month_11 month_12  \n",
       "0        0        0        0  "
      ]
     },
     "execution_count": 20,
     "metadata": {},
     "output_type": "execute_result"
    }
   ],
   "source": [
    "from ConfirmMonthPatientVisitor import ConfirmMonthPatientVisitor\n",
    "confirmMonthPatientVisitor = ConfirmMonthPatientVisitor()\n",
    "confirmMonthPatientVisitor.visitPatient(patient)\n",
    "month = confirmMonthPatientVisitor.getResult()\n",
    "month"
   ]
  },
  {
   "cell_type": "code",
   "execution_count": 21,
   "metadata": {},
   "outputs": [
    {
     "data": {
      "text/html": [
       "<div>\n",
       "<style scoped>\n",
       "    .dataframe tbody tr th:only-of-type {\n",
       "        vertical-align: middle;\n",
       "    }\n",
       "\n",
       "    .dataframe tbody tr th {\n",
       "        vertical-align: top;\n",
       "    }\n",
       "\n",
       "    .dataframe thead th {\n",
       "        text-align: right;\n",
       "    }\n",
       "</style>\n",
       "<table border=\"1\" class=\"dataframe\">\n",
       "  <thead>\n",
       "    <tr style=\"text-align: right;\">\n",
       "      <th></th>\n",
       "      <th>type_0</th>\n",
       "      <th>type_1</th>\n",
       "      <th>type_2</th>\n",
       "    </tr>\n",
       "  </thead>\n",
       "  <tbody>\n",
       "    <tr>\n",
       "      <th>0</th>\n",
       "      <td>0</td>\n",
       "      <td>1</td>\n",
       "      <td>0</td>\n",
       "    </tr>\n",
       "  </tbody>\n",
       "</table>\n",
       "</div>"
      ],
      "text/plain": [
       "  type_0 type_1 type_2\n",
       "0      0      1      0"
      ]
     },
     "execution_count": 21,
     "metadata": {},
     "output_type": "execute_result"
    }
   ],
   "source": [
    "from ConfirmTypePatientVisitor import ConfirmTypePatientVisitor\n",
    "confirmTypePatientVisitor = ConfirmTypePatientVisitor()\n",
    "confirmTypePatientVisitor.visitPatient(patient)\n",
    "type = confirmTypePatientVisitor.getResult()\n",
    "type"
   ]
  },
  {
   "cell_type": "code",
   "execution_count": 22,
   "metadata": {},
   "outputs": [
    {
     "data": {
      "text/html": [
       "<div>\n",
       "<style scoped>\n",
       "    .dataframe tbody tr th:only-of-type {\n",
       "        vertical-align: middle;\n",
       "    }\n",
       "\n",
       "    .dataframe tbody tr th {\n",
       "        vertical-align: top;\n",
       "    }\n",
       "\n",
       "    .dataframe thead th {\n",
       "        text-align: right;\n",
       "    }\n",
       "</style>\n",
       "<table border=\"1\" class=\"dataframe\">\n",
       "  <thead>\n",
       "    <tr style=\"text-align: right;\">\n",
       "      <th></th>\n",
       "      <th>age</th>\n",
       "    </tr>\n",
       "  </thead>\n",
       "  <tbody>\n",
       "    <tr>\n",
       "      <th>0</th>\n",
       "      <td>75.413699</td>\n",
       "    </tr>\n",
       "  </tbody>\n",
       "</table>\n",
       "</div>"
      ],
      "text/plain": [
       "         age\n",
       "0  75.413699"
      ]
     },
     "execution_count": 22,
     "metadata": {},
     "output_type": "execute_result"
    }
   ],
   "source": [
    "from ConfirmAgePatientVisitor import ConfirmAgePatientVisitor\n",
    "confirmAgePatientVisitor = ConfirmAgePatientVisitor()\n",
    "confirmAgePatientVisitor.visitPatient(patient)\n",
    "age = confirmAgePatientVisitor.getResult()\n",
    "age"
   ]
  },
  {
   "cell_type": "code",
   "execution_count": 23,
   "metadata": {},
   "outputs": [
    {
     "data": {
      "text/html": [
       "<div>\n",
       "<style scoped>\n",
       "    .dataframe tbody tr th:only-of-type {\n",
       "        vertical-align: middle;\n",
       "    }\n",
       "\n",
       "    .dataframe tbody tr th {\n",
       "        vertical-align: top;\n",
       "    }\n",
       "\n",
       "    .dataframe thead th {\n",
       "        text-align: right;\n",
       "    }\n",
       "</style>\n",
       "<table border=\"1\" class=\"dataframe\">\n",
       "  <thead>\n",
       "    <tr style=\"text-align: right;\">\n",
       "      <th></th>\n",
       "      <th>TotalDot</th>\n",
       "    </tr>\n",
       "  </thead>\n",
       "  <tbody>\n",
       "    <tr>\n",
       "      <th>0</th>\n",
       "      <td>258581</td>\n",
       "    </tr>\n",
       "  </tbody>\n",
       "</table>\n",
       "</div>"
      ],
      "text/plain": [
       "  TotalDot\n",
       "0   258581"
      ]
     },
     "execution_count": 23,
     "metadata": {},
     "output_type": "execute_result"
    }
   ],
   "source": [
    "from HistoryTotalDotPatientVisitor import HistoryTotalDotPatientVisitor\n",
    "historyTotalDotPatientVisitor = HistoryTotalDotPatientVisitor()\n",
    "historyTotalDotPatientVisitor.visitPatient(patient)\n",
    "dot = historyTotalDotPatientVisitor.getResult()\n",
    "dot"
   ]
  },
  {
   "cell_type": "code",
   "execution_count": 24,
   "metadata": {},
   "outputs": [
    {
     "data": {
      "text/html": [
       "<div>\n",
       "<style scoped>\n",
       "    .dataframe tbody tr th:only-of-type {\n",
       "        vertical-align: middle;\n",
       "    }\n",
       "\n",
       "    .dataframe tbody tr th {\n",
       "        vertical-align: top;\n",
       "    }\n",
       "\n",
       "    .dataframe thead th {\n",
       "        text-align: right;\n",
       "    }\n",
       "</style>\n",
       "<table border=\"1\" class=\"dataframe\">\n",
       "  <thead>\n",
       "    <tr style=\"text-align: right;\">\n",
       "      <th></th>\n",
       "      <th>ou_times</th>\n",
       "      <th>em_times</th>\n",
       "      <th>in_times</th>\n",
       "    </tr>\n",
       "  </thead>\n",
       "  <tbody>\n",
       "    <tr>\n",
       "      <th>0</th>\n",
       "      <td>66</td>\n",
       "      <td>2</td>\n",
       "      <td>2</td>\n",
       "    </tr>\n",
       "  </tbody>\n",
       "</table>\n",
       "</div>"
      ],
      "text/plain": [
       "  ou_times em_times in_times\n",
       "0       66        2        2"
      ]
     },
     "execution_count": 24,
     "metadata": {},
     "output_type": "execute_result"
    }
   ],
   "source": [
    "from HistoryTypePatientVisitor import HistoryTypePatientVisitor\n",
    "historyTypePatientVisitor = HistoryTypePatientVisitor()\n",
    "historyTypePatientVisitor.visitPatient(patient)\n",
    "history_type = historyTypePatientVisitor.getResult()\n",
    "history_type"
   ]
  },
  {
   "cell_type": "code",
   "execution_count": 25,
   "metadata": {},
   "outputs": [
    {
     "data": {
      "text/html": [
       "<div>\n",
       "<style scoped>\n",
       "    .dataframe tbody tr th:only-of-type {\n",
       "        vertical-align: middle;\n",
       "    }\n",
       "\n",
       "    .dataframe tbody tr th {\n",
       "        vertical-align: top;\n",
       "    }\n",
       "\n",
       "    .dataframe thead th {\n",
       "        text-align: right;\n",
       "    }\n",
       "</style>\n",
       "<table border=\"1\" class=\"dataframe\">\n",
       "  <thead>\n",
       "    <tr style=\"text-align: right;\">\n",
       "      <th></th>\n",
       "      <th>385</th>\n",
       "      <th>388</th>\n",
       "      <th>521</th>\n",
       "      <th>522</th>\n",
       "      <th>523</th>\n",
       "      <th>780</th>\n",
       "      <th>396</th>\n",
       "      <th>785</th>\n",
       "      <th>786</th>\n",
       "      <th>401</th>\n",
       "      <th>...</th>\n",
       "      <th>217</th>\n",
       "      <th>729</th>\n",
       "      <th>482</th>\n",
       "      <th>611</th>\n",
       "      <th>616</th>\n",
       "      <th>493</th>\n",
       "      <th>372</th>\n",
       "      <th>380</th>\n",
       "      <th>381</th>\n",
       "      <th>382</th>\n",
       "    </tr>\n",
       "  </thead>\n",
       "  <tbody>\n",
       "  </tbody>\n",
       "</table>\n",
       "<p>0 rows × 38 columns</p>\n",
       "</div>"
      ],
      "text/plain": [
       "Empty DataFrame\n",
       "Columns: [385, 388, 521, 522, 523, 780, 396, 785, 786, 401, 535, 153, 410, 414, 424, 300, 428, 174, 691, 692, 698, 443, 455, 715, 460, 465, 466, 211, 217, 729, 482, 611, 616, 493, 372, 380, 381, 382]\n",
       "Index: []\n",
       "\n",
       "[0 rows x 38 columns]"
      ]
     },
     "execution_count": 25,
     "metadata": {},
     "output_type": "execute_result"
    }
   ],
   "source": [
    "from HistoryICDPatientVisitor import HistoryICDPatientVisitor\n",
    "historyICDPatientVisitor = HistoryICDPatientVisitor()\n",
    "historyICDPatientVisitor.visitPatient(patient)\n",
    "history_icd = historyICDPatientVisitor.getResult()\n",
    "history_icd"
   ]
  },
  {
   "cell_type": "code",
   "execution_count": 26,
   "metadata": {},
   "outputs": [
    {
     "data": {
      "text/html": [
       "<div>\n",
       "<style scoped>\n",
       "    .dataframe tbody tr th:only-of-type {\n",
       "        vertical-align: middle;\n",
       "    }\n",
       "\n",
       "    .dataframe tbody tr th {\n",
       "        vertical-align: top;\n",
       "    }\n",
       "\n",
       "    .dataframe thead th {\n",
       "        text-align: right;\n",
       "    }\n",
       "</style>\n",
       "<table border=\"1\" class=\"dataframe\">\n",
       "  <thead>\n",
       "    <tr style=\"text-align: right;\">\n",
       "      <th></th>\n",
       "      <th>A005891209</th>\n",
       "      <th>B017214112</th>\n",
       "      <th>A037598116</th>\n",
       "      <th>N006066265</th>\n",
       "      <th>AC285031G0</th>\n",
       "      <th>A023521100</th>\n",
       "      <th>AC30521212</th>\n",
       "      <th>AC13229100</th>\n",
       "      <th>A001085277</th>\n",
       "      <th>B018155100</th>\n",
       "      <th>...</th>\n",
       "      <th>A042017100</th>\n",
       "      <th>AC453631G0</th>\n",
       "      <th>A040130100</th>\n",
       "      <th>B009554100</th>\n",
       "      <th>AC473101G0</th>\n",
       "      <th>B018979229</th>\n",
       "      <th>A024465100</th>\n",
       "      <th>A027438100</th>\n",
       "      <th>AC43943412</th>\n",
       "      <th>AC32172299</th>\n",
       "    </tr>\n",
       "  </thead>\n",
       "  <tbody>\n",
       "  </tbody>\n",
       "</table>\n",
       "<p>0 rows × 31 columns</p>\n",
       "</div>"
      ],
      "text/plain": [
       "Empty DataFrame\n",
       "Columns: [A005891209, B017214112, A037598116, N006066265, AC285031G0, A023521100, AC30521212, AC13229100, A001085277, B018155100, B010085100, B020802100, B022932100, B021571100, B018304297, A024113277, AC07630212, B019376221, AC27716209, AC20651255, AC373441G0, A042017100, AC453631G0, A040130100, B009554100, AC473101G0, B018979229, A024465100, A027438100, AC43943412, AC32172299]\n",
       "Index: []\n",
       "\n",
       "[0 rows x 31 columns]"
      ]
     },
     "execution_count": 26,
     "metadata": {},
     "output_type": "execute_result"
    }
   ],
   "source": [
    "from HistoryMEPatientVisitor import HistoryMEPatientVisitor\n",
    "historyMEPatientVisitor = HistoryMEPatientVisitor()\n",
    "historyMEPatientVisitor.visitPatient(patient)\n",
    "history_me = historyMEPatientVisitor.getResult()\n",
    "history_me"
   ]
  },
  {
   "cell_type": "code",
   "execution_count": null,
   "metadata": {},
   "outputs": [],
   "source": []
  },
  {
   "cell_type": "code",
   "execution_count": null,
   "metadata": {},
   "outputs": [],
   "source": []
  },
  {
   "cell_type": "code",
   "execution_count": null,
   "metadata": {},
   "outputs": [],
   "source": []
  },
  {
   "cell_type": "code",
   "execution_count": null,
   "metadata": {},
   "outputs": [],
   "source": []
  },
  {
   "cell_type": "code",
   "execution_count": 28,
   "metadata": {},
   "outputs": [],
   "source": [
    "import pandas as pd"
   ]
  },
  {
   "cell_type": "code",
   "execution_count": 30,
   "metadata": {},
   "outputs": [],
   "source": [
    "model_columns_list = list(pd.read_pickle('../data/model_columns_list.pkl')['key'])"
   ]
  },
  {
   "cell_type": "code",
   "execution_count": 34,
   "metadata": {},
   "outputs": [
    {
     "data": {
      "text/plain": [
       "['dot',\n",
       " 'get_age',\n",
       " 'ou',\n",
       " 'type_0',\n",
       " 'em',\n",
       " '798',\n",
       " '518',\n",
       " '785',\n",
       " '38',\n",
       " 'in',\n",
       " '290',\n",
       " '414',\n",
       " '486',\n",
       " '411',\n",
       " '286',\n",
       " 'type_2',\n",
       " '293',\n",
       " '198',\n",
       " '799',\n",
       " '584',\n",
       " '707',\n",
       " '820',\n",
       " '782',\n",
       " '276',\n",
       " '920',\n",
       " '53',\n",
       " '133',\n",
       " '507',\n",
       " '413',\n",
       " '873',\n",
       " '151',\n",
       " '485',\n",
       " '427',\n",
       " '197',\n",
       " '332',\n",
       " '585',\n",
       " '788',\n",
       " '438',\n",
       " '460',\n",
       " '458',\n",
       " '522',\n",
       " 'B018863412',\n",
       " 'B020554100',\n",
       " '694',\n",
       " '432',\n",
       " '189',\n",
       " '487',\n",
       " '348',\n",
       " '218',\n",
       " '205',\n",
       " '621',\n",
       " '759',\n",
       " '6',\n",
       " '434',\n",
       " '681',\n",
       " '464',\n",
       " '470',\n",
       " '162',\n",
       " '112',\n",
       " 'area_YunlinCounty',\n",
       " 'A020573229',\n",
       " '905',\n",
       " '825',\n",
       " '202',\n",
       " '879',\n",
       " '141',\n",
       " '430',\n",
       " '294',\n",
       " 'A034255356',\n",
       " '255',\n",
       " '913',\n",
       " '692',\n",
       " '530',\n",
       " '386',\n",
       " '578',\n",
       " '306',\n",
       " '595',\n",
       " '718',\n",
       " '910',\n",
       " '235',\n",
       " '843',\n",
       " '599',\n",
       " 'B017151229',\n",
       " '303',\n",
       " '251',\n",
       " '893',\n",
       " 'A026551121',\n",
       " 'A021656100',\n",
       " 'A004973321',\n",
       " 'A045177100',\n",
       " 'A044463100',\n",
       " '165',\n",
       " 'A027936100',\n",
       " 'AC39794100',\n",
       " 'A034286100',\n",
       " '956',\n",
       " 'A034096100',\n",
       " 'AC22682271',\n",
       " '146',\n",
       " '144',\n",
       " 'A045039100',\n",
       " 'B018332100',\n",
       " 'B018167255',\n",
       " '346',\n",
       " 'A034886100',\n",
       " 'B023749209',\n",
       " 'A027928212',\n",
       " '723',\n",
       " '695',\n",
       " '441',\n",
       " '465',\n",
       " '492',\n",
       " '380',\n",
       " '287',\n",
       " 'B019457209',\n",
       " 'N002967209',\n",
       " 'A024212277',\n",
       " '806',\n",
       " '440',\n",
       " '996',\n",
       " '716',\n",
       " '145',\n",
       " 'B022071100',\n",
       " 'B017214112',\n",
       " '959',\n",
       " '506',\n",
       " '793',\n",
       " '995',\n",
       " '11',\n",
       " '155',\n",
       " '787',\n",
       " 'area_TaoyuanCity',\n",
       " '331',\n",
       " '274',\n",
       " '511',\n",
       " '854',\n",
       " 'B017742277',\n",
       " 'B022886100',\n",
       " 'A0361511G0',\n",
       " 'A042435100',\n",
       " 'A006795100',\n",
       " 'A003552212',\n",
       " 'AC00480209',\n",
       " '711',\n",
       " '682',\n",
       " '110',\n",
       " '698',\n",
       " 'A0373441G0',\n",
       " 'area_TaitungCounty',\n",
       " '365',\n",
       " '894',\n",
       " 'month_9',\n",
       " '881',\n",
       " 'B010085100',\n",
       " 'A028613199',\n",
       " '629',\n",
       " '553',\n",
       " 'B020932221',\n",
       " '725',\n",
       " 'A022836100',\n",
       " '481',\n",
       " 'B018752100',\n",
       " 'A045701221',\n",
       " 'A029835277',\n",
       " 'B021779100',\n",
       " 'A018251100',\n",
       " 'A001085255',\n",
       " '690',\n",
       " 'month_6',\n",
       " 'B023917100',\n",
       " 'A042412209',\n",
       " '558',\n",
       " '477',\n",
       " 'N009997277',\n",
       " 'B020802100',\n",
       " '783',\n",
       " '403',\n",
       " '435',\n",
       " '444',\n",
       " '360',\n",
       " '922',\n",
       " '602',\n",
       " '196',\n",
       " '297',\n",
       " 'A045154221',\n",
       " 'A043735112',\n",
       " 'A045993100',\n",
       " 'N004582238',\n",
       " 'A022274100',\n",
       " 'B021848263',\n",
       " '396',\n",
       " '705',\n",
       " '521',\n",
       " 'B024273100',\n",
       " 'A030810209',\n",
       " 'A041913100',\n",
       " '378',\n",
       " 'N015737265',\n",
       " 'A003318100',\n",
       " '227']"
      ]
     },
     "execution_count": 34,
     "metadata": {},
     "output_type": "execute_result"
    }
   ],
   "source": [
    "model_columns_list"
   ]
  }
 ],
 "metadata": {
  "kernelspec": {
   "display_name": "Python 3",
   "language": "python",
   "name": "python3"
  },
  "language_info": {
   "codemirror_mode": {
    "name": "ipython",
    "version": 3
   },
   "file_extension": ".py",
   "mimetype": "text/x-python",
   "name": "python",
   "nbconvert_exporter": "python",
   "pygments_lexer": "ipython3",
   "version": "3.7.4"
  }
 },
 "nbformat": 4,
 "nbformat_minor": 2
}
