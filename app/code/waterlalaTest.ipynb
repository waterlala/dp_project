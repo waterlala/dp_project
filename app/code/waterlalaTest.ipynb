{
 "cells": [
  {
   "cell_type": "code",
   "execution_count": 1,
   "metadata": {},
   "outputs": [],
   "source": [
    "from InOutput import InOutput"
   ]
  },
  {
   "cell_type": "code",
   "execution_count": 2,
   "metadata": {},
   "outputs": [],
   "source": [
    "test = InOutput()"
   ]
  },
  {
   "cell_type": "code",
   "execution_count": 3,
   "metadata": {},
   "outputs": [],
   "source": [
    "id = '0007613eee440aa3145f09e1dfd0865b'"
   ]
  },
  {
   "cell_type": "code",
   "execution_count": 4,
   "metadata": {},
   "outputs": [
    {
     "data": {
      "text/plain": [
       "0.123416506"
      ]
     },
     "execution_count": 4,
     "metadata": {},
     "output_type": "execute_result"
    }
   ],
   "source": [
    "test.get_quickly_death_possible(id)"
   ]
  },
  {
   "cell_type": "code",
   "execution_count": 5,
   "metadata": {},
   "outputs": [
    {
     "data": {
      "text/html": [
       "<div>\n",
       "<style scoped>\n",
       "    .dataframe tbody tr th:only-of-type {\n",
       "        vertical-align: middle;\n",
       "    }\n",
       "\n",
       "    .dataframe tbody tr th {\n",
       "        vertical-align: top;\n",
       "    }\n",
       "\n",
       "    .dataframe thead th {\n",
       "        text-align: right;\n",
       "    }\n",
       "</style>\n",
       "<table border=\"1\" class=\"dataframe\">\n",
       "  <thead>\n",
       "    <tr style=\"text-align: right;\">\n",
       "      <th></th>\n",
       "      <th>0</th>\n",
       "      <th>1</th>\n",
       "      <th>2</th>\n",
       "      <th>3</th>\n",
       "      <th>4</th>\n",
       "      <th>5</th>\n",
       "      <th>6</th>\n",
       "      <th>7</th>\n",
       "      <th>8</th>\n",
       "      <th>9</th>\n",
       "      <th>...</th>\n",
       "      <th>35</th>\n",
       "      <th>36</th>\n",
       "      <th>37</th>\n",
       "      <th>38</th>\n",
       "      <th>39</th>\n",
       "      <th>40</th>\n",
       "      <th>41</th>\n",
       "      <th>42</th>\n",
       "      <th>43</th>\n",
       "      <th>44</th>\n",
       "    </tr>\n",
       "  </thead>\n",
       "  <tbody>\n",
       "    <tr>\n",
       "      <th>x</th>\n",
       "      <td>1.0</td>\n",
       "      <td>366.0</td>\n",
       "      <td>731.0</td>\n",
       "      <td>1096.0</td>\n",
       "      <td>1461.0</td>\n",
       "      <td>1826.0</td>\n",
       "      <td>2191.0</td>\n",
       "      <td>2556.0</td>\n",
       "      <td>2921.0</td>\n",
       "      <td>3286.0</td>\n",
       "      <td>...</td>\n",
       "      <td>12776.0</td>\n",
       "      <td>13141.0</td>\n",
       "      <td>13506.0</td>\n",
       "      <td>13871.0</td>\n",
       "      <td>14236.0</td>\n",
       "      <td>14601.0</td>\n",
       "      <td>14966.0</td>\n",
       "      <td>15331.0</td>\n",
       "      <td>15696.0</td>\n",
       "      <td>16061.0</td>\n",
       "    </tr>\n",
       "    <tr>\n",
       "      <th>y</th>\n",
       "      <td>0.0</td>\n",
       "      <td>0.0</td>\n",
       "      <td>0.0</td>\n",
       "      <td>0.0</td>\n",
       "      <td>0.0</td>\n",
       "      <td>0.0</td>\n",
       "      <td>0.0</td>\n",
       "      <td>0.0</td>\n",
       "      <td>0.0</td>\n",
       "      <td>0.0</td>\n",
       "      <td>...</td>\n",
       "      <td>30.0</td>\n",
       "      <td>30.0</td>\n",
       "      <td>32.0</td>\n",
       "      <td>32.0</td>\n",
       "      <td>33.0</td>\n",
       "      <td>33.0</td>\n",
       "      <td>35.0</td>\n",
       "      <td>38.0</td>\n",
       "      <td>51.0</td>\n",
       "      <td>55.0</td>\n",
       "    </tr>\n",
       "  </tbody>\n",
       "</table>\n",
       "<p>2 rows × 45 columns</p>\n",
       "</div>"
      ],
      "text/plain": [
       "    0      1      2       3       4       5       6       7       8       9   \\\n",
       "x  1.0  366.0  731.0  1096.0  1461.0  1826.0  2191.0  2556.0  2921.0  3286.0   \n",
       "y  0.0    0.0    0.0     0.0     0.0     0.0     0.0     0.0     0.0     0.0   \n",
       "\n",
       "   ...       35       36       37       38       39       40       41  \\\n",
       "x  ...  12776.0  13141.0  13506.0  13871.0  14236.0  14601.0  14966.0   \n",
       "y  ...     30.0     30.0     32.0     32.0     33.0     33.0     35.0   \n",
       "\n",
       "        42       43       44  \n",
       "x  15331.0  15696.0  16061.0  \n",
       "y     38.0     51.0     55.0  \n",
       "\n",
       "[2 rows x 45 columns]"
      ]
     },
     "execution_count": 5,
     "metadata": {},
     "output_type": "execute_result"
    }
   ],
   "source": [
    "test.get_icd_category_growth_trend(id)"
   ]
  },
  {
   "cell_type": "code",
   "execution_count": 6,
   "metadata": {},
   "outputs": [
    {
     "data": {
      "text/html": [
       "<div>\n",
       "<style scoped>\n",
       "    .dataframe tbody tr th:only-of-type {\n",
       "        vertical-align: middle;\n",
       "    }\n",
       "\n",
       "    .dataframe tbody tr th {\n",
       "        vertical-align: top;\n",
       "    }\n",
       "\n",
       "    .dataframe thead th {\n",
       "        text-align: right;\n",
       "    }\n",
       "</style>\n",
       "<table border=\"1\" class=\"dataframe\">\n",
       "  <thead>\n",
       "    <tr style=\"text-align: right;\">\n",
       "      <th></th>\n",
       "      <th>id</th>\n",
       "      <th>gender</th>\n",
       "      <th>birthdate</th>\n",
       "    </tr>\n",
       "  </thead>\n",
       "  <tbody>\n",
       "    <tr>\n",
       "      <th>0</th>\n",
       "      <td>0007613eee440aa3145f09e1dfd0865b</td>\n",
       "      <td>M</td>\n",
       "      <td>1968-07-01</td>\n",
       "    </tr>\n",
       "  </tbody>\n",
       "</table>\n",
       "</div>"
      ],
      "text/plain": [
       "                                 id gender  birthdate\n",
       "0  0007613eee440aa3145f09e1dfd0865b      M 1968-07-01"
      ]
     },
     "execution_count": 6,
     "metadata": {},
     "output_type": "execute_result"
    }
   ],
   "source": [
    "test.get_personal_info(id)"
   ]
  },
  {
   "cell_type": "code",
   "execution_count": 7,
   "metadata": {},
   "outputs": [
    {
     "data": {
      "text/plain": [
       "1976.9411764705883"
      ]
     },
     "execution_count": 7,
     "metadata": {},
     "output_type": "execute_result"
    }
   ],
   "source": [
    "test.get_same_patient_survive_time_mean(id)"
   ]
  },
  {
   "cell_type": "code",
   "execution_count": 8,
   "metadata": {},
   "outputs": [
    {
     "data": {
      "text/html": [
       "<div>\n",
       "<style scoped>\n",
       "    .dataframe tbody tr th:only-of-type {\n",
       "        vertical-align: middle;\n",
       "    }\n",
       "\n",
       "    .dataframe tbody tr th {\n",
       "        vertical-align: top;\n",
       "    }\n",
       "\n",
       "    .dataframe thead th {\n",
       "        text-align: right;\n",
       "    }\n",
       "</style>\n",
       "<table border=\"1\" class=\"dataframe\">\n",
       "  <thead>\n",
       "    <tr style=\"text-align: right;\">\n",
       "      <th></th>\n",
       "      <th>disease</th>\n",
       "      <th>times</th>\n",
       "    </tr>\n",
       "  </thead>\n",
       "  <tbody>\n",
       "    <tr>\n",
       "      <th>0</th>\n",
       "      <td>410</td>\n",
       "      <td>51</td>\n",
       "    </tr>\n",
       "    <tr>\n",
       "      <th>1</th>\n",
       "      <td>414</td>\n",
       "      <td>48</td>\n",
       "    </tr>\n",
       "    <tr>\n",
       "      <th>2</th>\n",
       "      <td>428</td>\n",
       "      <td>44</td>\n",
       "    </tr>\n",
       "    <tr>\n",
       "      <th>3</th>\n",
       "      <td>401</td>\n",
       "      <td>44</td>\n",
       "    </tr>\n",
       "    <tr>\n",
       "      <th>4</th>\n",
       "      <td>786</td>\n",
       "      <td>38</td>\n",
       "    </tr>\n",
       "    <tr>\n",
       "      <th>...</th>\n",
       "      <td>...</td>\n",
       "      <td>...</td>\n",
       "    </tr>\n",
       "    <tr>\n",
       "      <th>266</th>\n",
       "      <td>553</td>\n",
       "      <td>1</td>\n",
       "    </tr>\n",
       "    <tr>\n",
       "      <th>265</th>\n",
       "      <td>555</td>\n",
       "      <td>1</td>\n",
       "    </tr>\n",
       "    <tr>\n",
       "      <th>263</th>\n",
       "      <td>447</td>\n",
       "      <td>1</td>\n",
       "    </tr>\n",
       "    <tr>\n",
       "      <th>262</th>\n",
       "      <td>500</td>\n",
       "      <td>1</td>\n",
       "    </tr>\n",
       "    <tr>\n",
       "      <th>347</th>\n",
       "      <td>8</td>\n",
       "      <td>1</td>\n",
       "    </tr>\n",
       "  </tbody>\n",
       "</table>\n",
       "<p>348 rows × 2 columns</p>\n",
       "</div>"
      ],
      "text/plain": [
       "     disease  times\n",
       "0        410     51\n",
       "1        414     48\n",
       "2        428     44\n",
       "3        401     44\n",
       "4        786     38\n",
       "..       ...    ...\n",
       "266      553      1\n",
       "265      555      1\n",
       "263      447      1\n",
       "262      500      1\n",
       "347        8      1\n",
       "\n",
       "[348 rows x 2 columns]"
      ]
     },
     "execution_count": 8,
     "metadata": {},
     "output_type": "execute_result"
    }
   ],
   "source": [
    "test.get_same_patient_after_confirm_disease_value_counts(id)"
   ]
  },
  {
   "cell_type": "code",
   "execution_count": null,
   "metadata": {},
   "outputs": [],
   "source": []
  },
  {
   "cell_type": "code",
   "execution_count": 4,
   "metadata": {},
   "outputs": [],
   "source": [
    "test = InOutput()"
   ]
  },
  {
   "cell_type": "code",
   "execution_count": 5,
   "metadata": {},
   "outputs": [],
   "source": [
    "patient = test._data_storage._patient_list[3]"
   ]
  },
  {
   "cell_type": "code",
   "execution_count": 6,
   "metadata": {},
   "outputs": [
    {
     "data": {
      "text/plain": [
       "'003141716a352935ab39e2ec8f2401f0'"
      ]
     },
     "execution_count": 6,
     "metadata": {},
     "output_type": "execute_result"
    }
   ],
   "source": [
    "patient.get_id()"
   ]
  },
  {
   "cell_type": "code",
   "execution_count": 7,
   "metadata": {},
   "outputs": [
    {
     "data": {
      "text/plain": [
       "Timestamp('2010-06-17 00:00:00')"
      ]
     },
     "execution_count": 7,
     "metadata": {},
     "output_type": "execute_result"
    }
   ],
   "source": [
    "from ConfirmDatePatientVisitor import ConfirmDatePatientVisitor\n",
    "confirmDatePatientVisitor = ConfirmDatePatientVisitor()\n",
    "patient.accept_visitor(confirmDatePatientVisitor)\n",
    "confirm_date = confirmDatePatientVisitor.getResult()\n",
    "confirm_date"
   ]
  },
  {
   "cell_type": "code",
   "execution_count": 8,
   "metadata": {},
   "outputs": [
    {
     "data": {
      "text/plain": [
       "'TainanCity'"
      ]
     },
     "execution_count": 8,
     "metadata": {},
     "output_type": "execute_result"
    }
   ],
   "source": [
    "from AreaPatientVisitor import AreaPatientVisitor\n",
    "areaPatientVisitor = AreaPatientVisitor()\n",
    "patient.accept_visitor(areaPatientVisitor)\n",
    "area = areaPatientVisitor.getResult()\n",
    "area"
   ]
  },
  {
   "cell_type": "code",
   "execution_count": 9,
   "metadata": {},
   "outputs": [
    {
     "data": {
      "text/html": [
       "<div>\n",
       "<style scoped>\n",
       "    .dataframe tbody tr th:only-of-type {\n",
       "        vertical-align: middle;\n",
       "    }\n",
       "\n",
       "    .dataframe tbody tr th {\n",
       "        vertical-align: top;\n",
       "    }\n",
       "\n",
       "    .dataframe thead th {\n",
       "        text-align: right;\n",
       "    }\n",
       "</style>\n",
       "<table border=\"1\" class=\"dataframe\">\n",
       "  <thead>\n",
       "    <tr style=\"text-align: right;\">\n",
       "      <th></th>\n",
       "      <th>0</th>\n",
       "      <th>1</th>\n",
       "      <th>2</th>\n",
       "      <th>3</th>\n",
       "      <th>4</th>\n",
       "      <th>5</th>\n",
       "      <th>6</th>\n",
       "      <th>7</th>\n",
       "      <th>8</th>\n",
       "      <th>9</th>\n",
       "      <th>...</th>\n",
       "      <th>77</th>\n",
       "      <th>78</th>\n",
       "      <th>79</th>\n",
       "      <th>80</th>\n",
       "      <th>81</th>\n",
       "      <th>82</th>\n",
       "      <th>83</th>\n",
       "      <th>84</th>\n",
       "      <th>85</th>\n",
       "      <th>86</th>\n",
       "    </tr>\n",
       "  </thead>\n",
       "  <tbody>\n",
       "    <tr>\n",
       "      <th>x</th>\n",
       "      <td>1.0</td>\n",
       "      <td>366.0</td>\n",
       "      <td>731.0</td>\n",
       "      <td>1096.0</td>\n",
       "      <td>1461.0</td>\n",
       "      <td>1826.0</td>\n",
       "      <td>2191.0</td>\n",
       "      <td>2556.0</td>\n",
       "      <td>2921.0</td>\n",
       "      <td>3286.0</td>\n",
       "      <td>...</td>\n",
       "      <td>28106.0</td>\n",
       "      <td>28471.0</td>\n",
       "      <td>28836.0</td>\n",
       "      <td>29201.0</td>\n",
       "      <td>29566.0</td>\n",
       "      <td>29931.0</td>\n",
       "      <td>30296.0</td>\n",
       "      <td>30661.0</td>\n",
       "      <td>31026.0</td>\n",
       "      <td>31391.0</td>\n",
       "    </tr>\n",
       "    <tr>\n",
       "      <th>y</th>\n",
       "      <td>0.0</td>\n",
       "      <td>0.0</td>\n",
       "      <td>0.0</td>\n",
       "      <td>0.0</td>\n",
       "      <td>0.0</td>\n",
       "      <td>0.0</td>\n",
       "      <td>0.0</td>\n",
       "      <td>0.0</td>\n",
       "      <td>0.0</td>\n",
       "      <td>0.0</td>\n",
       "      <td>...</td>\n",
       "      <td>64.0</td>\n",
       "      <td>72.0</td>\n",
       "      <td>80.0</td>\n",
       "      <td>86.0</td>\n",
       "      <td>87.0</td>\n",
       "      <td>95.0</td>\n",
       "      <td>103.0</td>\n",
       "      <td>105.0</td>\n",
       "      <td>107.0</td>\n",
       "      <td>111.0</td>\n",
       "    </tr>\n",
       "  </tbody>\n",
       "</table>\n",
       "<p>2 rows × 87 columns</p>\n",
       "</div>"
      ],
      "text/plain": [
       "    0      1      2       3       4       5       6       7       8       9   \\\n",
       "x  1.0  366.0  731.0  1096.0  1461.0  1826.0  2191.0  2556.0  2921.0  3286.0   \n",
       "y  0.0    0.0    0.0     0.0     0.0     0.0     0.0     0.0     0.0     0.0   \n",
       "\n",
       "   ...       77       78       79       80       81       82       83  \\\n",
       "x  ...  28106.0  28471.0  28836.0  29201.0  29566.0  29931.0  30296.0   \n",
       "y  ...     64.0     72.0     80.0     86.0     87.0     95.0    103.0   \n",
       "\n",
       "        84       85       86  \n",
       "x  30661.0  31026.0  31391.0  \n",
       "y    105.0    107.0    111.0  \n",
       "\n",
       "[2 rows x 87 columns]"
      ]
     },
     "execution_count": 9,
     "metadata": {},
     "output_type": "execute_result"
    }
   ],
   "source": [
    "from CardPatientVisitor import CardPatientVisitor\n",
    "cardPatientVisitor = CardPatientVisitor()\n",
    "patient.accept_visitor(cardPatientVisitor)\n",
    "position = cardPatientVisitor.getResult()\n",
    "position"
   ]
  },
  {
   "cell_type": "code",
   "execution_count": 10,
   "metadata": {},
   "outputs": [
    {
     "data": {
      "text/plain": [
       "6"
      ]
     },
     "execution_count": 10,
     "metadata": {},
     "output_type": "execute_result"
    }
   ],
   "source": [
    "from ConfirmMonthPatientVisitor import ConfirmMonthPatientVisitor\n",
    "confirmMonthPatientVisitor = ConfirmMonthPatientVisitor()\n",
    "patient.accept_visitor(confirmMonthPatientVisitor)\n",
    "month = confirmMonthPatientVisitor.getResult()\n",
    "month"
   ]
  },
  {
   "cell_type": "code",
   "execution_count": 11,
   "metadata": {},
   "outputs": [
    {
     "data": {
      "text/plain": [
       "2"
      ]
     },
     "execution_count": 11,
     "metadata": {},
     "output_type": "execute_result"
    }
   ],
   "source": [
    "from ConfirmTypePatientVisitor import ConfirmTypePatientVisitor\n",
    "confirmTypePatientVisitor = ConfirmTypePatientVisitor()\n",
    "patient.accept_visitor(confirmTypePatientVisitor)\n",
    "type = confirmTypePatientVisitor.getResult()\n",
    "type"
   ]
  },
  {
   "cell_type": "code",
   "execution_count": 12,
   "metadata": {},
   "outputs": [
    {
     "data": {
      "text/plain": [
       "83.6"
      ]
     },
     "execution_count": 12,
     "metadata": {},
     "output_type": "execute_result"
    }
   ],
   "source": [
    "from ConfirmAgePatientVisitor import ConfirmAgePatientVisitor\n",
    "confirmAgePatientVisitor = ConfirmAgePatientVisitor()\n",
    "patient.accept_visitor(confirmAgePatientVisitor)\n",
    "age = confirmAgePatientVisitor.getResult()\n",
    "age"
   ]
  },
  {
   "cell_type": "code",
   "execution_count": 13,
   "metadata": {},
   "outputs": [
    {
     "data": {
      "text/plain": [
       "519128"
      ]
     },
     "execution_count": 13,
     "metadata": {},
     "output_type": "execute_result"
    }
   ],
   "source": [
    "from HistoryTotalDotPatientVisitor import HistoryTotalDotPatientVisitor\n",
    "historyTotalDotPatientVisitor = HistoryTotalDotPatientVisitor()\n",
    "patient.accept_visitor(historyTotalDotPatientVisitor)\n",
    "dot = historyTotalDotPatientVisitor.getResult()\n",
    "dot"
   ]
  },
  {
   "cell_type": "code",
   "execution_count": 14,
   "metadata": {},
   "outputs": [
    {
     "data": {
      "text/html": [
       "<div>\n",
       "<style scoped>\n",
       "    .dataframe tbody tr th:only-of-type {\n",
       "        vertical-align: middle;\n",
       "    }\n",
       "\n",
       "    .dataframe tbody tr th {\n",
       "        vertical-align: top;\n",
       "    }\n",
       "\n",
       "    .dataframe thead th {\n",
       "        text-align: right;\n",
       "    }\n",
       "</style>\n",
       "<table border=\"1\" class=\"dataframe\">\n",
       "  <thead>\n",
       "    <tr style=\"text-align: right;\">\n",
       "      <th></th>\n",
       "      <th>ou_times</th>\n",
       "      <th>em_times</th>\n",
       "      <th>in_times</th>\n",
       "    </tr>\n",
       "  </thead>\n",
       "  <tbody>\n",
       "    <tr>\n",
       "      <th>0</th>\n",
       "      <td>165</td>\n",
       "      <td>7</td>\n",
       "      <td>6</td>\n",
       "    </tr>\n",
       "  </tbody>\n",
       "</table>\n",
       "</div>"
      ],
      "text/plain": [
       "  ou_times em_times in_times\n",
       "0      165        7        6"
      ]
     },
     "execution_count": 14,
     "metadata": {},
     "output_type": "execute_result"
    }
   ],
   "source": [
    "from HistoryTypePatientVisitor import HistoryTypePatientVisitor\n",
    "historyTypePatientVisitor = HistoryTypePatientVisitor()\n",
    "patient.accept_visitor(historyTypePatientVisitor)\n",
    "history_type = historyTypePatientVisitor.getResult()\n",
    "history_type"
   ]
  },
  {
   "cell_type": "code",
   "execution_count": 15,
   "metadata": {},
   "outputs": [
    {
     "data": {
      "text/html": [
       "<div>\n",
       "<style scoped>\n",
       "    .dataframe tbody tr th:only-of-type {\n",
       "        vertical-align: middle;\n",
       "    }\n",
       "\n",
       "    .dataframe tbody tr th {\n",
       "        vertical-align: top;\n",
       "    }\n",
       "\n",
       "    .dataframe thead th {\n",
       "        text-align: right;\n",
       "    }\n",
       "</style>\n",
       "<table border=\"1\" class=\"dataframe\">\n",
       "  <thead>\n",
       "    <tr style=\"text-align: right;\">\n",
       "      <th></th>\n",
       "      <th>521</th>\n",
       "      <th>523</th>\n",
       "      <th>525</th>\n",
       "      <th>141</th>\n",
       "      <th>782</th>\n",
       "      <th>528</th>\n",
       "      <th>401</th>\n",
       "      <th>530</th>\n",
       "      <th>532</th>\n",
       "      <th>533</th>\n",
       "      <th>...</th>\n",
       "      <th>599</th>\n",
       "      <th>600</th>\n",
       "      <th>729</th>\n",
       "      <th>607</th>\n",
       "      <th>491</th>\n",
       "      <th>110</th>\n",
       "      <th>496</th>\n",
       "      <th>250</th>\n",
       "      <th>891</th>\n",
       "      <th>893</th>\n",
       "    </tr>\n",
       "  </thead>\n",
       "  <tbody>\n",
       "  </tbody>\n",
       "</table>\n",
       "<p>0 rows × 52 columns</p>\n",
       "</div>"
      ],
      "text/plain": [
       "Empty DataFrame\n",
       "Columns: [521, 523, 525, 141, 782, 528, 401, 530, 532, 533, 790, 535, 789, 916, 410, 412, 924, 414, 290, 805, 682, 555, 428, 300, 684, 427, 438, 443, 571, 447, 578, 715, 844, 590, 847, 462, 721, 465, 850, 724, 596, 466, 599, 600, 729, 607, 491, 110, 496, 250, 891, 893]\n",
       "Index: []\n",
       "\n",
       "[0 rows x 52 columns]"
      ]
     },
     "execution_count": 15,
     "metadata": {},
     "output_type": "execute_result"
    }
   ],
   "source": [
    "from HistoryICDPatientVisitor import HistoryICDPatientVisitor\n",
    "historyICDPatientVisitor = HistoryICDPatientVisitor()\n",
    "patient.accept_visitor(historyICDPatientVisitor)\n",
    "history_icd = historyICDPatientVisitor.getResult()\n",
    "history_icd"
   ]
  },
  {
   "cell_type": "code",
   "execution_count": 16,
   "metadata": {},
   "outputs": [
    {
     "data": {
      "text/html": [
       "<div>\n",
       "<style scoped>\n",
       "    .dataframe tbody tr th:only-of-type {\n",
       "        vertical-align: middle;\n",
       "    }\n",
       "\n",
       "    .dataframe tbody tr th {\n",
       "        vertical-align: top;\n",
       "    }\n",
       "\n",
       "    .dataframe thead th {\n",
       "        text-align: right;\n",
       "    }\n",
       "</style>\n",
       "<table border=\"1\" class=\"dataframe\">\n",
       "  <thead>\n",
       "    <tr style=\"text-align: right;\">\n",
       "      <th></th>\n",
       "      <th>B019855100</th>\n",
       "      <th>B018095255</th>\n",
       "      <th>A040358345</th>\n",
       "      <th>A022641100</th>\n",
       "      <th>B022617100</th>\n",
       "      <th>A022634100</th>\n",
       "      <th>A033471100</th>\n",
       "      <th>A046199100</th>\n",
       "      <th>A041545100</th>\n",
       "      <th>A021758100</th>\n",
       "      <th>...</th>\n",
       "      <th>B018026100</th>\n",
       "      <th>A0091021G0</th>\n",
       "      <th>A034255356</th>\n",
       "      <th>A029758110</th>\n",
       "      <th>A022990343</th>\n",
       "      <th>A031540100</th>\n",
       "      <th>A022274100</th>\n",
       "      <th>B017520277</th>\n",
       "      <th>A048032335</th>\n",
       "      <th>B020802100</th>\n",
       "    </tr>\n",
       "  </thead>\n",
       "  <tbody>\n",
       "  </tbody>\n",
       "</table>\n",
       "<p>0 rows × 80 columns</p>\n",
       "</div>"
      ],
      "text/plain": [
       "Empty DataFrame\n",
       "Columns: [B019855100, B018095255, A040358345, A022641100, B022617100, A022634100, A033471100, A046199100, A041545100, A021758100, A048363100, B023373100, A037252212, B024273100, A045338157, K000739299, N001246229, A033929100, A008956212, A032263212, B011225100, A015842209, B021571100, A019615329, B018167255, N002967209, B011212100, A021012209, A013382100, A040130100, A0437061G0, A036014277, A001085277, A0423661G0, A022903100, A040767345, A0028631G0, A046260100, A031799100, A043214345, A024888100, B022727209, B022932100, A027598100, B020991100, B024212100, A030862157, A044882100, A021981417, A012001399, A044022100, A043823100, B021641100, B019536414, B012880100, A021755100, A030521212, A029345100, A037684277, A020707100, A045016100, B018797100, A029354321, A031170363, A030862199, A009792100, B007152100, A0233701G0, B023664100, A044684100, B018026100, A0091021G0, A034255356, A029758110, A022990343, A031540100, A022274100, B017520277, A048032335, B020802100]\n",
       "Index: []\n",
       "\n",
       "[0 rows x 80 columns]"
      ]
     },
     "execution_count": 16,
     "metadata": {},
     "output_type": "execute_result"
    }
   ],
   "source": [
    "from HistoryMEPatientVisitor import HistoryMEPatientVisitor\n",
    "historyMEPatientVisitor = HistoryMEPatientVisitor()\n",
    "patient.accept_visitor(historyMEPatientVisitor)\n",
    "history_me = historyMEPatientVisitor.getResult()\n",
    "history_me"
   ]
  },
  {
   "cell_type": "code",
   "execution_count": 17,
   "metadata": {},
   "outputs": [
    {
     "data": {
      "text/plain": [
       "0.40106428"
      ]
     },
     "execution_count": 17,
     "metadata": {},
     "output_type": "execute_result"
    }
   ],
   "source": [
    "from QuicklyDeathPatientVisitor import QuicklyDeathPatientVisitor\n",
    "quicklyDeathPatientVisitor = QuicklyDeathPatientVisitor()\n",
    "patient.accept_visitor(quicklyDeathPatientVisitor)\n",
    "death_posible = quicklyDeathPatientVisitor.getResult()\n",
    "death_posible"
   ]
  },
  {
   "cell_type": "code",
   "execution_count": 18,
   "metadata": {},
   "outputs": [
    {
     "data": {
      "text/plain": [
       "[<Patient.Patient at 0x1b0454e7448>,\n",
       " <Patient.Patient at 0x1b0454e7b08>,\n",
       " <Patient.Patient at 0x1b0454e7ec8>,\n",
       " <Patient.Patient at 0x1b0454fef08>,\n",
       " <Patient.Patient at 0x1b0455018c8>,\n",
       " <Patient.Patient at 0x1b045501dc8>,\n",
       " <Patient.Patient at 0x1b0454fe9c8>,\n",
       " <Patient.Patient at 0x1b045505e88>,\n",
       " <Patient.Patient at 0x1b045509608>,\n",
       " <Patient.Patient at 0x1b045509e48>,\n",
       " <Patient.Patient at 0x1b04550d548>,\n",
       " <Patient.Patient at 0x1b04550f9c8>,\n",
       " <Patient.Patient at 0x1b0455130c8>,\n",
       " <Patient.Patient at 0x1b045513788>,\n",
       " <Patient.Patient at 0x1b045513e48>,\n",
       " <Patient.Patient at 0x1b045516548>,\n",
       " <Patient.Patient at 0x1b04551d788>,\n",
       " <Patient.Patient at 0x1b04551de48>,\n",
       " <Patient.Patient at 0x1b0455280c8>,\n",
       " <Patient.Patient at 0x1b045528788>,\n",
       " <Patient.Patient at 0x1b045530308>,\n",
       " <Patient.Patient at 0x1b0455309c8>,\n",
       " <Patient.Patient at 0x1b045532788>,\n",
       " <Patient.Patient at 0x1b045539548>,\n",
       " <Patient.Patient at 0x1b045539c08>,\n",
       " <Patient.Patient at 0x1b04553f0c8>,\n",
       " <Patient.Patient at 0x1b04553f788>,\n",
       " <Patient.Patient at 0x1b04553fe48>,\n",
       " <Patient.Patient at 0x1b045543548>,\n",
       " <Patient.Patient at 0x1b045543c08>,\n",
       " <Patient.Patient at 0x1b045546308>,\n",
       " <Patient.Patient at 0x1b04554a788>,\n",
       " <Patient.Patient at 0x1b04554d548>,\n",
       " <Patient.Patient at 0x1b04554dc08>,\n",
       " <Patient.Patient at 0x1b045552308>,\n",
       " <Patient.Patient at 0x1b0455529c8>,\n",
       " <Patient.Patient at 0x1b0455550c8>,\n",
       " <Patient.Patient at 0x1b045555e48>,\n",
       " <Patient.Patient at 0x1b04555c9c8>,\n",
       " <Patient.Patient at 0x1b04555f788>,\n",
       " <Patient.Patient at 0x1b045562c08>,\n",
       " <Patient.Patient at 0x1b045568308>,\n",
       " <Patient.Patient at 0x1b0455689c8>,\n",
       " <Patient.Patient at 0x1b04556a0c8>,\n",
       " <Patient.Patient at 0x1b04556ae48>,\n",
       " <Patient.Patient at 0x1b04556e548>,\n",
       " <Patient.Patient at 0x1b045572308>,\n",
       " <Patient.Patient at 0x1b0455750c8>,\n",
       " <Patient.Patient at 0x1b045575788>,\n",
       " <Patient.Patient at 0x1b045578548>,\n",
       " <Patient.Patient at 0x1b045583548>,\n",
       " <Patient.Patient at 0x1b045587308>,\n",
       " <Patient.Patient at 0x1b04558b0c8>]"
      ]
     },
     "execution_count": 18,
     "metadata": {},
     "output_type": "execute_result"
    }
   ],
   "source": [
    "from FindPatientByFPTreePatientVisitor import FindPatientByFPTreePatientVisitor\n",
    "findPatientByFPTreePatientVisitor = FindPatientByFPTreePatientVisitor(test._data_storage)\n",
    "patient.accept_visitor(findPatientByFPTreePatientVisitor)\n",
    "patients = findPatientByFPTreePatientVisitor.getResult()\n",
    "patients"
   ]
  },
  {
   "cell_type": "code",
   "execution_count": 19,
   "metadata": {},
   "outputs": [
    {
     "data": {
      "text/plain": [
       "1932.6470588235295"
      ]
     },
     "execution_count": 19,
     "metadata": {},
     "output_type": "execute_result"
    }
   ],
   "source": [
    "from CalSamePatientDeathMeanTimePatientVisitor import CalSamePatientDeathMeanTimePatientVisitor\n",
    "calSamePatientDeathMeanTimePatientVisitor = CalSamePatientDeathMeanTimePatientVisitor(test._data_storage)\n",
    "patient.accept_visitor(calSamePatientDeathMeanTimePatientVisitor)\n",
    "mean = calSamePatientDeathMeanTimePatientVisitor.getResult()\n",
    "mean"
   ]
  },
  {
   "cell_type": "code",
   "execution_count": 20,
   "metadata": {},
   "outputs": [
    {
     "data": {
      "text/plain": [
       "[518,\n",
       " 913,\n",
       " 786,\n",
       " 787,\n",
       " 531,\n",
       " 533,\n",
       " 789,\n",
       " 276,\n",
       " 401,\n",
       " 410,\n",
       " 413,\n",
       " 290,\n",
       " 38,\n",
       " 427,\n",
       " 428,\n",
       " 300,\n",
       " 564,\n",
       " 698,\n",
       " 702,\n",
       " 715,\n",
       " 716,\n",
       " 331,\n",
       " 78,\n",
       " 463,\n",
       " 465,\n",
       " 466,\n",
       " 721,\n",
       " 724,\n",
       " 599,\n",
       " 216,\n",
       " 729,\n",
       " 485,\n",
       " 486,\n",
       " 873,\n",
       " 491,\n",
       " 112,\n",
       " 496,\n",
       " 372,\n",
       " 373,\n",
       " 250]"
      ]
     },
     "execution_count": 20,
     "metadata": {},
     "output_type": "execute_result"
    }
   ],
   "source": [
    "from AfterConfirmRecordDiseaseSetPatientVisitor import AfterConfirmRecordDiseaseSetPatientVisitor\n",
    "afterConfirmRecordDiseaseSetPatientVisitor = AfterConfirmRecordDiseaseSetPatientVisitor()\n",
    "patient.accept_visitor(afterConfirmRecordDiseaseSetPatientVisitor)\n",
    "d_set = afterConfirmRecordDiseaseSetPatientVisitor.getResult()\n",
    "d_set"
   ]
  },
  {
   "cell_type": "code",
   "execution_count": 6,
   "metadata": {},
   "outputs": [
    {
     "data": {
      "text/html": [
       "<div>\n",
       "<style scoped>\n",
       "    .dataframe tbody tr th:only-of-type {\n",
       "        vertical-align: middle;\n",
       "    }\n",
       "\n",
       "    .dataframe tbody tr th {\n",
       "        vertical-align: top;\n",
       "    }\n",
       "\n",
       "    .dataframe thead th {\n",
       "        text-align: right;\n",
       "    }\n",
       "</style>\n",
       "<table border=\"1\" class=\"dataframe\">\n",
       "  <thead>\n",
       "    <tr style=\"text-align: right;\">\n",
       "      <th></th>\n",
       "      <th>disease</th>\n",
       "      <th>times</th>\n",
       "    </tr>\n",
       "  </thead>\n",
       "  <tbody>\n",
       "    <tr>\n",
       "      <th>0</th>\n",
       "      <td>410</td>\n",
       "      <td>52</td>\n",
       "    </tr>\n",
       "    <tr>\n",
       "      <th>1</th>\n",
       "      <td>414</td>\n",
       "      <td>47</td>\n",
       "    </tr>\n",
       "    <tr>\n",
       "      <th>2</th>\n",
       "      <td>401</td>\n",
       "      <td>45</td>\n",
       "    </tr>\n",
       "    <tr>\n",
       "      <th>3</th>\n",
       "      <td>428</td>\n",
       "      <td>43</td>\n",
       "    </tr>\n",
       "    <tr>\n",
       "      <th>4</th>\n",
       "      <td>786</td>\n",
       "      <td>38</td>\n",
       "    </tr>\n",
       "    <tr>\n",
       "      <th>...</th>\n",
       "      <td>...</td>\n",
       "      <td>...</td>\n",
       "    </tr>\n",
       "    <tr>\n",
       "      <th>261</th>\n",
       "      <td>244</td>\n",
       "      <td>1</td>\n",
       "    </tr>\n",
       "    <tr>\n",
       "      <th>260</th>\n",
       "      <td>905</td>\n",
       "      <td>1</td>\n",
       "    </tr>\n",
       "    <tr>\n",
       "      <th>259</th>\n",
       "      <td>246</td>\n",
       "      <td>1</td>\n",
       "    </tr>\n",
       "    <tr>\n",
       "      <th>258</th>\n",
       "      <td>841</td>\n",
       "      <td>1</td>\n",
       "    </tr>\n",
       "    <tr>\n",
       "      <th>336</th>\n",
       "      <td>999</td>\n",
       "      <td>1</td>\n",
       "    </tr>\n",
       "  </tbody>\n",
       "</table>\n",
       "<p>337 rows × 2 columns</p>\n",
       "</div>"
      ],
      "text/plain": [
       "     disease  times\n",
       "0        410     52\n",
       "1        414     47\n",
       "2        401     45\n",
       "3        428     43\n",
       "4        786     38\n",
       "..       ...    ...\n",
       "261      244      1\n",
       "260      905      1\n",
       "259      246      1\n",
       "258      841      1\n",
       "336      999      1\n",
       "\n",
       "[337 rows x 2 columns]"
      ]
     },
     "execution_count": 6,
     "metadata": {},
     "output_type": "execute_result"
    }
   ],
   "source": [
    "from GetAllPatientAfterConfirmDiseaseSetValueCountPatientVisitor import GetAllPatientAfterConfirmDiseaseSetValueCountPatientVisitor\n",
    "getAllPatientAfterConfirmDiseaseSetValueCountPatientVisitor = GetAllPatientAfterConfirmDiseaseSetValueCountPatientVisitor(test._data_storage)\n",
    "patient.accept_visitor(getAllPatientAfterConfirmDiseaseSetValueCountPatientVisitor)\n",
    "a_d_set = getAllPatientAfterConfirmDiseaseSetValueCountPatientVisitor.getResult()\n",
    "a_d_set"
   ]
  },
  {
   "cell_type": "code",
   "execution_count": null,
   "metadata": {},
   "outputs": [],
   "source": []
  },
  {
   "cell_type": "code",
   "execution_count": null,
   "metadata": {},
   "outputs": [],
   "source": []
  },
  {
   "cell_type": "code",
   "execution_count": null,
   "metadata": {},
   "outputs": [],
   "source": []
  }
 ],
 "metadata": {
  "kernelspec": {
   "display_name": "Python 3",
   "language": "python",
   "name": "python3"
  },
  "language_info": {
   "codemirror_mode": {
    "name": "ipython",
    "version": 3
   },
   "file_extension": ".py",
   "mimetype": "text/x-python",
   "name": "python",
   "nbconvert_exporter": "python",
   "pygments_lexer": "ipython3",
   "version": "3.7.6"
  }
 },
 "nbformat": 4,
 "nbformat_minor": 2
}
