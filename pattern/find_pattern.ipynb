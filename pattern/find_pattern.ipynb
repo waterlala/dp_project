{
 "cells": [
  {
   "cell_type": "code",
   "execution_count": 1,
   "metadata": {},
   "outputs": [],
   "source": [
    "import pandas as pd"
   ]
  },
  {
   "cell_type": "code",
   "execution_count": 2,
   "metadata": {},
   "outputs": [],
   "source": [
    "from FP_growth import FPTree"
   ]
  },
  {
   "cell_type": "code",
   "execution_count": 3,
   "metadata": {},
   "outputs": [
    {
     "data": {
      "text/plain": [
       "ID\n",
       "0007613eee440aa3145f09e1dfd0865b    {892, 440, 584, 465, 466, 428, 726, 472, 410, ...\n",
       "000ef5e1cc6b18c92c3da94886c205f2    {379, 117, 708, 465, 466, 272, 472, 410, 528, ...\n",
       "001561666d3f7af58205c452df1006a7    {272, 477, 786, 681, 916, 574, 997, 366, 715, ...\n",
       "001653b694bd769cca36d1181624f260    {465, 466, 272, 472, 410, 214, 786, 487, 477, ...\n",
       "001bb0fb0274b845fcf167f24548fa0b    {293, 477, 487, 786, 916, 701, 446, 733, 989, ...\n",
       "Name: ICD9CM, dtype: object"
      ]
     },
     "execution_count": 3,
     "metadata": {},
     "output_type": "execute_result"
    }
   ],
   "source": [
    "desease_sets = pd.read_pickle('disease_sets.pkl.zip')\n",
    "desease_sets.head()"
   ]
  },
  {
   "cell_type": "code",
   "execution_count": 4,
   "metadata": {},
   "outputs": [
    {
     "data": {
      "text/plain": [
       "<FP_growth.FPTree at 0x7fa1842a9210>"
      ]
     },
     "execution_count": 4,
     "metadata": {},
     "output_type": "execute_result"
    }
   ],
   "source": [
    "tree = FPTree()\n",
    "tree.fit(desease_sets)"
   ]
  },
  {
   "cell_type": "code",
   "execution_count": 5,
   "metadata": {},
   "outputs": [
    {
     "data": {
      "text/html": [
       "<div>\n",
       "<style scoped>\n",
       "    .dataframe tbody tr th:only-of-type {\n",
       "        vertical-align: middle;\n",
       "    }\n",
       "\n",
       "    .dataframe tbody tr th {\n",
       "        vertical-align: top;\n",
       "    }\n",
       "\n",
       "    .dataframe thead th {\n",
       "        text-align: right;\n",
       "    }\n",
       "</style>\n",
       "<table border=\"1\" class=\"dataframe\">\n",
       "  <thead>\n",
       "    <tr style=\"text-align: right;\">\n",
       "      <th></th>\n",
       "      <th>Pattern</th>\n",
       "      <th>Count</th>\n",
       "    </tr>\n",
       "  </thead>\n",
       "  <tbody>\n",
       "    <tr>\n",
       "      <th>0</th>\n",
       "      <td>[465]</td>\n",
       "      <td>9408</td>\n",
       "    </tr>\n",
       "    <tr>\n",
       "      <th>1</th>\n",
       "      <td>[466]</td>\n",
       "      <td>7892</td>\n",
       "    </tr>\n",
       "    <tr>\n",
       "      <th>2</th>\n",
       "      <td>[410]</td>\n",
       "      <td>9985</td>\n",
       "    </tr>\n",
       "    <tr>\n",
       "      <th>3</th>\n",
       "      <td>[533]</td>\n",
       "      <td>5546</td>\n",
       "    </tr>\n",
       "    <tr>\n",
       "      <th>4</th>\n",
       "      <td>[599]</td>\n",
       "      <td>5328</td>\n",
       "    </tr>\n",
       "    <tr>\n",
       "      <th>...</th>\n",
       "      <td>...</td>\n",
       "      <td>...</td>\n",
       "    </tr>\n",
       "    <tr>\n",
       "      <th>1862</th>\n",
       "      <td>[410, 463]</td>\n",
       "      <td>5225</td>\n",
       "    </tr>\n",
       "    <tr>\n",
       "      <th>1863</th>\n",
       "      <td>[410, 465, 463]</td>\n",
       "      <td>5124</td>\n",
       "    </tr>\n",
       "    <tr>\n",
       "      <th>1864</th>\n",
       "      <td>[465, 464]</td>\n",
       "      <td>5232</td>\n",
       "    </tr>\n",
       "    <tr>\n",
       "      <th>1865</th>\n",
       "      <td>[410, 464]</td>\n",
       "      <td>5335</td>\n",
       "    </tr>\n",
       "    <tr>\n",
       "      <th>1866</th>\n",
       "      <td>[410, 465, 464]</td>\n",
       "      <td>5232</td>\n",
       "    </tr>\n",
       "  </tbody>\n",
       "</table>\n",
       "<p>1867 rows × 2 columns</p>\n",
       "</div>"
      ],
      "text/plain": [
       "              Pattern  Count\n",
       "0               [465]   9408\n",
       "1               [466]   7892\n",
       "2               [410]   9985\n",
       "3               [533]   5546\n",
       "4               [599]   5328\n",
       "...               ...    ...\n",
       "1862       [410, 463]   5225\n",
       "1863  [410, 465, 463]   5124\n",
       "1864       [465, 464]   5232\n",
       "1865       [410, 464]   5335\n",
       "1866  [410, 465, 464]   5232\n",
       "\n",
       "[1867 rows x 2 columns]"
      ]
     },
     "execution_count": 5,
     "metadata": {},
     "output_type": "execute_result"
    }
   ],
   "source": [
    "pattern = pd.DataFrame(tree.mine(), columns=('Pattern', 'Count'))\n",
    "pattern"
   ]
  },
  {
   "cell_type": "code",
   "execution_count": 6,
   "metadata": {},
   "outputs": [
    {
     "data": {
      "text/html": [
       "<div>\n",
       "<style scoped>\n",
       "    .dataframe tbody tr th:only-of-type {\n",
       "        vertical-align: middle;\n",
       "    }\n",
       "\n",
       "    .dataframe tbody tr th {\n",
       "        vertical-align: top;\n",
       "    }\n",
       "\n",
       "    .dataframe thead th {\n",
       "        text-align: right;\n",
       "    }\n",
       "</style>\n",
       "<table border=\"1\" class=\"dataframe\">\n",
       "  <thead>\n",
       "    <tr style=\"text-align: right;\">\n",
       "      <th></th>\n",
       "      <th>Pattern</th>\n",
       "      <th>Count</th>\n",
       "      <th>Length</th>\n",
       "    </tr>\n",
       "  </thead>\n",
       "  <tbody>\n",
       "    <tr>\n",
       "      <th>0</th>\n",
       "      <td>[465]</td>\n",
       "      <td>9408</td>\n",
       "      <td>1</td>\n",
       "    </tr>\n",
       "    <tr>\n",
       "      <th>1</th>\n",
       "      <td>[466]</td>\n",
       "      <td>7892</td>\n",
       "      <td>1</td>\n",
       "    </tr>\n",
       "    <tr>\n",
       "      <th>2</th>\n",
       "      <td>[410]</td>\n",
       "      <td>9985</td>\n",
       "      <td>1</td>\n",
       "    </tr>\n",
       "    <tr>\n",
       "      <th>3</th>\n",
       "      <td>[533]</td>\n",
       "      <td>5546</td>\n",
       "      <td>1</td>\n",
       "    </tr>\n",
       "    <tr>\n",
       "      <th>4</th>\n",
       "      <td>[599]</td>\n",
       "      <td>5328</td>\n",
       "      <td>1</td>\n",
       "    </tr>\n",
       "    <tr>\n",
       "      <th>...</th>\n",
       "      <td>...</td>\n",
       "      <td>...</td>\n",
       "      <td>...</td>\n",
       "    </tr>\n",
       "    <tr>\n",
       "      <th>1862</th>\n",
       "      <td>[410, 463]</td>\n",
       "      <td>5225</td>\n",
       "      <td>2</td>\n",
       "    </tr>\n",
       "    <tr>\n",
       "      <th>1863</th>\n",
       "      <td>[410, 465, 463]</td>\n",
       "      <td>5124</td>\n",
       "      <td>3</td>\n",
       "    </tr>\n",
       "    <tr>\n",
       "      <th>1864</th>\n",
       "      <td>[465, 464]</td>\n",
       "      <td>5232</td>\n",
       "      <td>2</td>\n",
       "    </tr>\n",
       "    <tr>\n",
       "      <th>1865</th>\n",
       "      <td>[410, 464]</td>\n",
       "      <td>5335</td>\n",
       "      <td>2</td>\n",
       "    </tr>\n",
       "    <tr>\n",
       "      <th>1866</th>\n",
       "      <td>[410, 465, 464]</td>\n",
       "      <td>5232</td>\n",
       "      <td>3</td>\n",
       "    </tr>\n",
       "  </tbody>\n",
       "</table>\n",
       "<p>1867 rows × 3 columns</p>\n",
       "</div>"
      ],
      "text/plain": [
       "              Pattern  Count  Length\n",
       "0               [465]   9408       1\n",
       "1               [466]   7892       1\n",
       "2               [410]   9985       1\n",
       "3               [533]   5546       1\n",
       "4               [599]   5328       1\n",
       "...               ...    ...     ...\n",
       "1862       [410, 463]   5225       2\n",
       "1863  [410, 465, 463]   5124       3\n",
       "1864       [465, 464]   5232       2\n",
       "1865       [410, 464]   5335       2\n",
       "1866  [410, 465, 464]   5232       3\n",
       "\n",
       "[1867 rows x 3 columns]"
      ]
     },
     "execution_count": 6,
     "metadata": {},
     "output_type": "execute_result"
    }
   ],
   "source": [
    "pattern['Length'] = pattern['Pattern'].apply(len)\n",
    "pattern"
   ]
  },
  {
   "cell_type": "code",
   "execution_count": 7,
   "metadata": {},
   "outputs": [],
   "source": [
    "desease_set = {'410', '465'}"
   ]
  },
  {
   "cell_type": "code",
   "execution_count": 8,
   "metadata": {},
   "outputs": [],
   "source": [
    "match = pattern[pattern['Pattern'].apply(desease_set.issuperset)]"
   ]
  },
  {
   "cell_type": "code",
   "execution_count": 30,
   "metadata": {},
   "outputs": [
    {
     "data": {
      "text/plain": [
       "['410', '465']"
      ]
     },
     "execution_count": 30,
     "metadata": {},
     "output_type": "execute_result"
    }
   ],
   "source": [
    "pattern = match.sort_values('Length', ascending=False).iloc[0]['Pattern']\n",
    "pattern"
   ]
  },
  {
   "cell_type": "code",
   "execution_count": 32,
   "metadata": {},
   "outputs": [
    {
     "data": {
      "text/plain": [
       "Index(['0007613eee440aa3145f09e1dfd0865b', '000ef5e1cc6b18c92c3da94886c205f2',\n",
       "       '001561666d3f7af58205c452df1006a7', '001653b694bd769cca36d1181624f260',\n",
       "       '001bb0fb0274b845fcf167f24548fa0b', '001d59e55b99b688ec83a938da76138c',\n",
       "       '002119087b222fd6ac966d38b8c53f44', '002673983f6d46a275c4916ee017877b',\n",
       "       '002b2cd6ed1d3adaf529a8b051801051', '0030e804d2d6bf93d1c14c1ef9bda1a1',\n",
       "       ...\n",
       "       'ffb259febd30f1190810c2b53db12e6e', 'ffc3bbc56aa726e2d7f2b3fe54c40aa6',\n",
       "       'ffcca4e0901215decbc77f1e6f35c44e', 'ffe583ab0902ef37136d5ba0de37676b',\n",
       "       'ffe5cfa4f4ca508d9ebfe19b2c99c8d7', 'ffe68a137f4433f7becae981ffabf908',\n",
       "       'ffe8f6a2b8b9b7a9da4a175e30534dc0', 'fff2ecdf8a0234c105986a3b4a45ae5b',\n",
       "       'fffc746780c2e287bd0fac61d5528722', 'fffd2516e3115669a1b9319c813b62e0'],\n",
       "      dtype='object', name='ID', length=9408)"
      ]
     },
     "execution_count": 32,
     "metadata": {},
     "output_type": "execute_result"
    }
   ],
   "source": [
    "desease_sets[desease_sets.apply(lambda x: x.issuperset(pattern))].index"
   ]
  },
  {
   "cell_type": "code",
   "execution_count": null,
   "metadata": {},
   "outputs": [],
   "source": []
  }
 ],
 "metadata": {
  "kernelspec": {
   "display_name": "Python 3",
   "language": "python",
   "name": "python3"
  },
  "language_info": {
   "codemirror_mode": {
    "name": "ipython",
    "version": 3
   },
   "file_extension": ".py",
   "mimetype": "text/x-python",
   "name": "python",
   "nbconvert_exporter": "python",
   "pygments_lexer": "ipython3",
   "version": "3.7.6"
  }
 },
 "nbformat": 4,
 "nbformat_minor": 4
}
